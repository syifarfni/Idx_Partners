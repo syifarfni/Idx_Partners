{
 "cells": [
  {
   "cell_type": "code",
   "execution_count": 335,
   "metadata": {},
   "outputs": [],
   "source": [
    "import pandas as pd\n",
    "import numpy as np\n",
    "import warnings\n",
    "\n",
    "warnings.filterwarnings(\"ignore\") "
   ]
  },
  {
   "cell_type": "markdown",
   "metadata": {},
   "source": [
    "## 1. Pemahaman Data"
   ]
  },
  {
   "cell_type": "code",
   "execution_count": 336,
   "metadata": {},
   "outputs": [
    {
     "data": {
      "text/html": [
       "<div>\n",
       "<style scoped>\n",
       "    .dataframe tbody tr th:only-of-type {\n",
       "        vertical-align: middle;\n",
       "    }\n",
       "\n",
       "    .dataframe tbody tr th {\n",
       "        vertical-align: top;\n",
       "    }\n",
       "\n",
       "    .dataframe thead th {\n",
       "        text-align: right;\n",
       "    }\n",
       "</style>\n",
       "<table border=\"1\" class=\"dataframe\">\n",
       "  <thead>\n",
       "    <tr style=\"text-align: right;\">\n",
       "      <th></th>\n",
       "      <th>Unnamed: 0</th>\n",
       "      <th>id</th>\n",
       "      <th>member_id</th>\n",
       "      <th>loan_amnt</th>\n",
       "      <th>funded_amnt</th>\n",
       "      <th>funded_amnt_inv</th>\n",
       "      <th>term</th>\n",
       "      <th>int_rate</th>\n",
       "      <th>installment</th>\n",
       "      <th>grade</th>\n",
       "      <th>...</th>\n",
       "      <th>total_bal_il</th>\n",
       "      <th>il_util</th>\n",
       "      <th>open_rv_12m</th>\n",
       "      <th>open_rv_24m</th>\n",
       "      <th>max_bal_bc</th>\n",
       "      <th>all_util</th>\n",
       "      <th>total_rev_hi_lim</th>\n",
       "      <th>inq_fi</th>\n",
       "      <th>total_cu_tl</th>\n",
       "      <th>inq_last_12m</th>\n",
       "    </tr>\n",
       "  </thead>\n",
       "  <tbody>\n",
       "    <tr>\n",
       "      <th>0</th>\n",
       "      <td>0</td>\n",
       "      <td>1077501</td>\n",
       "      <td>1296599</td>\n",
       "      <td>5000</td>\n",
       "      <td>5000</td>\n",
       "      <td>4975.0</td>\n",
       "      <td>36 months</td>\n",
       "      <td>10.65</td>\n",
       "      <td>162.87</td>\n",
       "      <td>B</td>\n",
       "      <td>...</td>\n",
       "      <td>NaN</td>\n",
       "      <td>NaN</td>\n",
       "      <td>NaN</td>\n",
       "      <td>NaN</td>\n",
       "      <td>NaN</td>\n",
       "      <td>NaN</td>\n",
       "      <td>NaN</td>\n",
       "      <td>NaN</td>\n",
       "      <td>NaN</td>\n",
       "      <td>NaN</td>\n",
       "    </tr>\n",
       "    <tr>\n",
       "      <th>1</th>\n",
       "      <td>1</td>\n",
       "      <td>1077430</td>\n",
       "      <td>1314167</td>\n",
       "      <td>2500</td>\n",
       "      <td>2500</td>\n",
       "      <td>2500.0</td>\n",
       "      <td>60 months</td>\n",
       "      <td>15.27</td>\n",
       "      <td>59.83</td>\n",
       "      <td>C</td>\n",
       "      <td>...</td>\n",
       "      <td>NaN</td>\n",
       "      <td>NaN</td>\n",
       "      <td>NaN</td>\n",
       "      <td>NaN</td>\n",
       "      <td>NaN</td>\n",
       "      <td>NaN</td>\n",
       "      <td>NaN</td>\n",
       "      <td>NaN</td>\n",
       "      <td>NaN</td>\n",
       "      <td>NaN</td>\n",
       "    </tr>\n",
       "    <tr>\n",
       "      <th>2</th>\n",
       "      <td>2</td>\n",
       "      <td>1077175</td>\n",
       "      <td>1313524</td>\n",
       "      <td>2400</td>\n",
       "      <td>2400</td>\n",
       "      <td>2400.0</td>\n",
       "      <td>36 months</td>\n",
       "      <td>15.96</td>\n",
       "      <td>84.33</td>\n",
       "      <td>C</td>\n",
       "      <td>...</td>\n",
       "      <td>NaN</td>\n",
       "      <td>NaN</td>\n",
       "      <td>NaN</td>\n",
       "      <td>NaN</td>\n",
       "      <td>NaN</td>\n",
       "      <td>NaN</td>\n",
       "      <td>NaN</td>\n",
       "      <td>NaN</td>\n",
       "      <td>NaN</td>\n",
       "      <td>NaN</td>\n",
       "    </tr>\n",
       "    <tr>\n",
       "      <th>3</th>\n",
       "      <td>3</td>\n",
       "      <td>1076863</td>\n",
       "      <td>1277178</td>\n",
       "      <td>10000</td>\n",
       "      <td>10000</td>\n",
       "      <td>10000.0</td>\n",
       "      <td>36 months</td>\n",
       "      <td>13.49</td>\n",
       "      <td>339.31</td>\n",
       "      <td>C</td>\n",
       "      <td>...</td>\n",
       "      <td>NaN</td>\n",
       "      <td>NaN</td>\n",
       "      <td>NaN</td>\n",
       "      <td>NaN</td>\n",
       "      <td>NaN</td>\n",
       "      <td>NaN</td>\n",
       "      <td>NaN</td>\n",
       "      <td>NaN</td>\n",
       "      <td>NaN</td>\n",
       "      <td>NaN</td>\n",
       "    </tr>\n",
       "    <tr>\n",
       "      <th>4</th>\n",
       "      <td>4</td>\n",
       "      <td>1075358</td>\n",
       "      <td>1311748</td>\n",
       "      <td>3000</td>\n",
       "      <td>3000</td>\n",
       "      <td>3000.0</td>\n",
       "      <td>60 months</td>\n",
       "      <td>12.69</td>\n",
       "      <td>67.79</td>\n",
       "      <td>B</td>\n",
       "      <td>...</td>\n",
       "      <td>NaN</td>\n",
       "      <td>NaN</td>\n",
       "      <td>NaN</td>\n",
       "      <td>NaN</td>\n",
       "      <td>NaN</td>\n",
       "      <td>NaN</td>\n",
       "      <td>NaN</td>\n",
       "      <td>NaN</td>\n",
       "      <td>NaN</td>\n",
       "      <td>NaN</td>\n",
       "    </tr>\n",
       "  </tbody>\n",
       "</table>\n",
       "<p>5 rows × 75 columns</p>\n",
       "</div>"
      ],
      "text/plain": [
       "   Unnamed: 0       id  member_id  loan_amnt  funded_amnt  funded_amnt_inv  \\\n",
       "0           0  1077501    1296599       5000         5000           4975.0   \n",
       "1           1  1077430    1314167       2500         2500           2500.0   \n",
       "2           2  1077175    1313524       2400         2400           2400.0   \n",
       "3           3  1076863    1277178      10000        10000          10000.0   \n",
       "4           4  1075358    1311748       3000         3000           3000.0   \n",
       "\n",
       "         term  int_rate  installment grade  ... total_bal_il il_util  \\\n",
       "0   36 months     10.65       162.87     B  ...          NaN     NaN   \n",
       "1   60 months     15.27        59.83     C  ...          NaN     NaN   \n",
       "2   36 months     15.96        84.33     C  ...          NaN     NaN   \n",
       "3   36 months     13.49       339.31     C  ...          NaN     NaN   \n",
       "4   60 months     12.69        67.79     B  ...          NaN     NaN   \n",
       "\n",
       "  open_rv_12m open_rv_24m  max_bal_bc all_util total_rev_hi_lim inq_fi  \\\n",
       "0         NaN         NaN         NaN      NaN              NaN    NaN   \n",
       "1         NaN         NaN         NaN      NaN              NaN    NaN   \n",
       "2         NaN         NaN         NaN      NaN              NaN    NaN   \n",
       "3         NaN         NaN         NaN      NaN              NaN    NaN   \n",
       "4         NaN         NaN         NaN      NaN              NaN    NaN   \n",
       "\n",
       "  total_cu_tl inq_last_12m  \n",
       "0         NaN          NaN  \n",
       "1         NaN          NaN  \n",
       "2         NaN          NaN  \n",
       "3         NaN          NaN  \n",
       "4         NaN          NaN  \n",
       "\n",
       "[5 rows x 75 columns]"
      ]
     },
     "execution_count": 336,
     "metadata": {},
     "output_type": "execute_result"
    }
   ],
   "source": [
    "#membaca data\n",
    "data=pd.read_csv('C:\\IDX partners\\datacredit.csv')\n",
    "data.head()"
   ]
  },
  {
   "cell_type": "code",
   "execution_count": 338,
   "metadata": {},
   "outputs": [
    {
     "name": "stdout",
     "output_type": "stream",
     "text": [
      "<class 'pandas.core.frame.DataFrame'>\n",
      "RangeIndex: 466285 entries, 0 to 466284\n",
      "Data columns (total 75 columns):\n",
      " #   Column                       Non-Null Count   Dtype  \n",
      "---  ------                       --------------   -----  \n",
      " 0   Unnamed: 0                   466285 non-null  int64  \n",
      " 1   id                           466285 non-null  int64  \n",
      " 2   member_id                    466285 non-null  int64  \n",
      " 3   loan_amnt                    466285 non-null  int64  \n",
      " 4   funded_amnt                  466285 non-null  int64  \n",
      " 5   funded_amnt_inv              466285 non-null  float64\n",
      " 6   term                         466285 non-null  object \n",
      " 7   int_rate                     466285 non-null  float64\n",
      " 8   installment                  466285 non-null  float64\n",
      " 9   grade                        466285 non-null  object \n",
      " 10  sub_grade                    466285 non-null  object \n",
      " 11  emp_title                    438697 non-null  object \n",
      " 12  emp_length                   445277 non-null  object \n",
      " 13  home_ownership               466285 non-null  object \n",
      " 14  annual_inc                   466281 non-null  float64\n",
      " 15  verification_status          466285 non-null  object \n",
      " 16  issue_d                      466285 non-null  object \n",
      " 17  loan_status                  466285 non-null  object \n",
      " 18  pymnt_plan                   466285 non-null  object \n",
      " 19  url                          466285 non-null  object \n",
      " 20  desc                         125981 non-null  object \n",
      " 21  purpose                      466285 non-null  object \n",
      " 22  title                        466264 non-null  object \n",
      " 23  zip_code                     466285 non-null  object \n",
      " 24  addr_state                   466285 non-null  object \n",
      " 25  dti                          466285 non-null  float64\n",
      " 26  delinq_2yrs                  466256 non-null  float64\n",
      " 27  earliest_cr_line             466256 non-null  object \n",
      " 28  inq_last_6mths               466256 non-null  float64\n",
      " 29  mths_since_last_delinq       215934 non-null  float64\n",
      " 30  mths_since_last_record       62638 non-null   float64\n",
      " 31  open_acc                     466256 non-null  float64\n",
      " 32  pub_rec                      466256 non-null  float64\n",
      " 33  revol_bal                    466285 non-null  int64  \n",
      " 34  revol_util                   465945 non-null  float64\n",
      " 35  total_acc                    466256 non-null  float64\n",
      " 36  initial_list_status          466285 non-null  object \n",
      " 37  out_prncp                    466285 non-null  float64\n",
      " 38  out_prncp_inv                466285 non-null  float64\n",
      " 39  total_pymnt                  466285 non-null  float64\n",
      " 40  total_pymnt_inv              466285 non-null  float64\n",
      " 41  total_rec_prncp              466285 non-null  float64\n",
      " 42  total_rec_int                466285 non-null  float64\n",
      " 43  total_rec_late_fee           466285 non-null  float64\n",
      " 44  recoveries                   466285 non-null  float64\n",
      " 45  collection_recovery_fee      466285 non-null  float64\n",
      " 46  last_pymnt_d                 465909 non-null  object \n",
      " 47  last_pymnt_amnt              466285 non-null  float64\n",
      " 48  next_pymnt_d                 239071 non-null  object \n",
      " 49  last_credit_pull_d           466243 non-null  object \n",
      " 50  collections_12_mths_ex_med   466140 non-null  float64\n",
      " 51  mths_since_last_major_derog  98974 non-null   float64\n",
      " 52  policy_code                  466285 non-null  int64  \n",
      " 53  application_type             466285 non-null  object \n",
      " 54  annual_inc_joint             0 non-null       float64\n",
      " 55  dti_joint                    0 non-null       float64\n",
      " 56  verification_status_joint    0 non-null       float64\n",
      " 57  acc_now_delinq               466256 non-null  float64\n",
      " 58  tot_coll_amt                 396009 non-null  float64\n",
      " 59  tot_cur_bal                  396009 non-null  float64\n",
      " 60  open_acc_6m                  0 non-null       float64\n",
      " 61  open_il_6m                   0 non-null       float64\n",
      " 62  open_il_12m                  0 non-null       float64\n",
      " 63  open_il_24m                  0 non-null       float64\n",
      " 64  mths_since_rcnt_il           0 non-null       float64\n",
      " 65  total_bal_il                 0 non-null       float64\n",
      " 66  il_util                      0 non-null       float64\n",
      " 67  open_rv_12m                  0 non-null       float64\n",
      " 68  open_rv_24m                  0 non-null       float64\n",
      " 69  max_bal_bc                   0 non-null       float64\n",
      " 70  all_util                     0 non-null       float64\n",
      " 71  total_rev_hi_lim             396009 non-null  float64\n",
      " 72  inq_fi                       0 non-null       float64\n",
      " 73  total_cu_tl                  0 non-null       float64\n",
      " 74  inq_last_12m                 0 non-null       float64\n",
      "dtypes: float64(46), int64(7), object(22)\n",
      "memory usage: 266.8+ MB\n"
     ]
    }
   ],
   "source": [
    "#mengidentifikasi missing value\n",
    "data.info()"
   ]
  },
  {
   "cell_type": "markdown",
   "metadata": {},
   "source": [
    "## 2. Menentukan Target"
   ]
  },
  {
   "cell_type": "code",
   "execution_count": 339,
   "metadata": {},
   "outputs": [
    {
     "data": {
      "text/plain": [
       "array(['Fully Paid', 'Charged Off', 'Current', 'Default',\n",
       "       'Late (31-120 days)', 'In Grace Period', 'Late (16-30 days)',\n",
       "       'Does not meet the credit policy. Status:Fully Paid',\n",
       "       'Does not meet the credit policy. Status:Charged Off'],\n",
       "      dtype=object)"
      ]
     },
     "execution_count": 339,
     "metadata": {},
     "output_type": "execute_result"
    }
   ],
   "source": [
    "data.loan_status.unique()"
   ]
  },
  {
   "cell_type": "markdown",
   "metadata": {},
   "source": [
    "#### Angka 1 berarti kemungkinan besar tidak bisa membayar atau akan merugikan, dan angka 0 berarti kemungkinan bisa membayar"
   ]
  },
  {
   "cell_type": "code",
   "execution_count": 340,
   "metadata": {},
   "outputs": [],
   "source": [
    "data['good_bad']= np.where(data.loc[:, 'loan_status'].isin (['Charged Off','Default','Late (31-120 days)', \n",
    "                                                         'In Grace Period', 'Late (16-30 days)','Does not meet the credit policy. Status:Charged Off'])\n",
    "                            , 1 , 0)\n"
   ]
  },
  {
   "cell_type": "code",
   "execution_count": 341,
   "metadata": {},
   "outputs": [
    {
     "data": {
      "text/plain": [
       "good_bad\n",
       "0    410953\n",
       "1     55332\n",
       "Name: count, dtype: int64"
      ]
     },
     "execution_count": 341,
     "metadata": {},
     "output_type": "execute_result"
    }
   ],
   "source": [
    "data.good_bad.value_counts()"
   ]
  },
  {
   "cell_type": "code",
   "execution_count": 342,
   "metadata": {},
   "outputs": [
    {
     "data": {
      "text/html": [
       "<div>\n",
       "<style scoped>\n",
       "    .dataframe tbody tr th:only-of-type {\n",
       "        vertical-align: middle;\n",
       "    }\n",
       "\n",
       "    .dataframe tbody tr th {\n",
       "        vertical-align: top;\n",
       "    }\n",
       "\n",
       "    .dataframe thead th {\n",
       "        text-align: right;\n",
       "    }\n",
       "</style>\n",
       "<table border=\"1\" class=\"dataframe\">\n",
       "  <thead>\n",
       "    <tr style=\"text-align: right;\">\n",
       "      <th></th>\n",
       "      <th>loan_status</th>\n",
       "      <th>good_bad</th>\n",
       "    </tr>\n",
       "  </thead>\n",
       "  <tbody>\n",
       "    <tr>\n",
       "      <th>0</th>\n",
       "      <td>Fully Paid</td>\n",
       "      <td>0</td>\n",
       "    </tr>\n",
       "    <tr>\n",
       "      <th>1</th>\n",
       "      <td>Charged Off</td>\n",
       "      <td>1</td>\n",
       "    </tr>\n",
       "    <tr>\n",
       "      <th>2</th>\n",
       "      <td>Fully Paid</td>\n",
       "      <td>0</td>\n",
       "    </tr>\n",
       "    <tr>\n",
       "      <th>3</th>\n",
       "      <td>Fully Paid</td>\n",
       "      <td>0</td>\n",
       "    </tr>\n",
       "    <tr>\n",
       "      <th>4</th>\n",
       "      <td>Current</td>\n",
       "      <td>0</td>\n",
       "    </tr>\n",
       "    <tr>\n",
       "      <th>...</th>\n",
       "      <td>...</td>\n",
       "      <td>...</td>\n",
       "    </tr>\n",
       "    <tr>\n",
       "      <th>466280</th>\n",
       "      <td>Current</td>\n",
       "      <td>0</td>\n",
       "    </tr>\n",
       "    <tr>\n",
       "      <th>466281</th>\n",
       "      <td>Charged Off</td>\n",
       "      <td>1</td>\n",
       "    </tr>\n",
       "    <tr>\n",
       "      <th>466282</th>\n",
       "      <td>Current</td>\n",
       "      <td>0</td>\n",
       "    </tr>\n",
       "    <tr>\n",
       "      <th>466283</th>\n",
       "      <td>Fully Paid</td>\n",
       "      <td>0</td>\n",
       "    </tr>\n",
       "    <tr>\n",
       "      <th>466284</th>\n",
       "      <td>Current</td>\n",
       "      <td>0</td>\n",
       "    </tr>\n",
       "  </tbody>\n",
       "</table>\n",
       "<p>466285 rows × 2 columns</p>\n",
       "</div>"
      ],
      "text/plain": [
       "        loan_status  good_bad\n",
       "0        Fully Paid         0\n",
       "1       Charged Off         1\n",
       "2        Fully Paid         0\n",
       "3        Fully Paid         0\n",
       "4           Current         0\n",
       "...             ...       ...\n",
       "466280      Current         0\n",
       "466281  Charged Off         1\n",
       "466282      Current         0\n",
       "466283   Fully Paid         0\n",
       "466284      Current         0\n",
       "\n",
       "[466285 rows x 2 columns]"
      ]
     },
     "execution_count": 342,
     "metadata": {},
     "output_type": "execute_result"
    }
   ],
   "source": [
    "data[['loan_status', 'good_bad']]"
   ]
  },
  {
   "cell_type": "code",
   "execution_count": 343,
   "metadata": {},
   "outputs": [
    {
     "name": "stdout",
     "output_type": "stream",
     "text": [
      "Index(['Unnamed: 0', 'id', 'member_id', 'loan_amnt', 'funded_amnt',\n",
      "       'funded_amnt_inv', 'term', 'int_rate', 'installment', 'grade',\n",
      "       'sub_grade', 'emp_title', 'emp_length', 'home_ownership', 'annual_inc',\n",
      "       'verification_status', 'issue_d', 'loan_status', 'pymnt_plan', 'url',\n",
      "       'desc', 'purpose', 'title', 'zip_code', 'addr_state', 'dti',\n",
      "       'delinq_2yrs', 'earliest_cr_line', 'inq_last_6mths',\n",
      "       'mths_since_last_delinq', 'mths_since_last_record', 'open_acc',\n",
      "       'pub_rec', 'revol_bal', 'revol_util', 'total_acc',\n",
      "       'initial_list_status', 'out_prncp', 'out_prncp_inv', 'total_pymnt',\n",
      "       'total_pymnt_inv', 'total_rec_prncp', 'total_rec_int',\n",
      "       'total_rec_late_fee', 'recoveries', 'collection_recovery_fee',\n",
      "       'last_pymnt_d', 'last_pymnt_amnt', 'next_pymnt_d', 'last_credit_pull_d',\n",
      "       'collections_12_mths_ex_med', 'mths_since_last_major_derog',\n",
      "       'policy_code', 'application_type', 'annual_inc_joint', 'dti_joint',\n",
      "       'verification_status_joint', 'acc_now_delinq', 'tot_coll_amt',\n",
      "       'tot_cur_bal', 'open_acc_6m', 'open_il_6m', 'open_il_12m',\n",
      "       'open_il_24m', 'mths_since_rcnt_il', 'total_bal_il', 'il_util',\n",
      "       'open_rv_12m', 'open_rv_24m', 'max_bal_bc', 'all_util',\n",
      "       'total_rev_hi_lim', 'inq_fi', 'total_cu_tl', 'inq_last_12m',\n",
      "       'good_bad'],\n",
      "      dtype='object')\n"
     ]
    }
   ],
   "source": [
    "# Cetak nama-nama kolom dalam DataFrame\n",
    "print(data.columns)"
   ]
  },
  {
   "cell_type": "markdown",
   "metadata": {},
   "source": [
    "## 3. Data Cleaning (Missing Values)"
   ]
  },
  {
   "cell_type": "code",
   "execution_count": 344,
   "metadata": {},
   "outputs": [],
   "source": [
    "#mengeksekusi missing values\n",
    "missing_values = pd.DataFrame(data.isnull().sum()/data.shape[0])"
   ]
  },
  {
   "cell_type": "code",
   "execution_count": 345,
   "metadata": {},
   "outputs": [],
   "source": [
    "missing_values = missing_values [missing_values.iloc[:, 0]>0.50]"
   ]
  },
  {
   "cell_type": "code",
   "execution_count": 346,
   "metadata": {},
   "outputs": [
    {
     "data": {
      "text/html": [
       "<div>\n",
       "<style scoped>\n",
       "    .dataframe tbody tr th:only-of-type {\n",
       "        vertical-align: middle;\n",
       "    }\n",
       "\n",
       "    .dataframe tbody tr th {\n",
       "        vertical-align: top;\n",
       "    }\n",
       "\n",
       "    .dataframe thead th {\n",
       "        text-align: right;\n",
       "    }\n",
       "</style>\n",
       "<table border=\"1\" class=\"dataframe\">\n",
       "  <thead>\n",
       "    <tr style=\"text-align: right;\">\n",
       "      <th></th>\n",
       "      <th>0</th>\n",
       "    </tr>\n",
       "  </thead>\n",
       "  <tbody>\n",
       "    <tr>\n",
       "      <th>open_il_24m</th>\n",
       "      <td>1.000000</td>\n",
       "    </tr>\n",
       "    <tr>\n",
       "      <th>mths_since_rcnt_il</th>\n",
       "      <td>1.000000</td>\n",
       "    </tr>\n",
       "    <tr>\n",
       "      <th>total_cu_tl</th>\n",
       "      <td>1.000000</td>\n",
       "    </tr>\n",
       "    <tr>\n",
       "      <th>inq_fi</th>\n",
       "      <td>1.000000</td>\n",
       "    </tr>\n",
       "    <tr>\n",
       "      <th>all_util</th>\n",
       "      <td>1.000000</td>\n",
       "    </tr>\n",
       "    <tr>\n",
       "      <th>max_bal_bc</th>\n",
       "      <td>1.000000</td>\n",
       "    </tr>\n",
       "    <tr>\n",
       "      <th>open_rv_24m</th>\n",
       "      <td>1.000000</td>\n",
       "    </tr>\n",
       "    <tr>\n",
       "      <th>open_rv_12m</th>\n",
       "      <td>1.000000</td>\n",
       "    </tr>\n",
       "    <tr>\n",
       "      <th>il_util</th>\n",
       "      <td>1.000000</td>\n",
       "    </tr>\n",
       "    <tr>\n",
       "      <th>total_bal_il</th>\n",
       "      <td>1.000000</td>\n",
       "    </tr>\n",
       "    <tr>\n",
       "      <th>inq_last_12m</th>\n",
       "      <td>1.000000</td>\n",
       "    </tr>\n",
       "    <tr>\n",
       "      <th>open_il_12m</th>\n",
       "      <td>1.000000</td>\n",
       "    </tr>\n",
       "    <tr>\n",
       "      <th>open_il_6m</th>\n",
       "      <td>1.000000</td>\n",
       "    </tr>\n",
       "    <tr>\n",
       "      <th>open_acc_6m</th>\n",
       "      <td>1.000000</td>\n",
       "    </tr>\n",
       "    <tr>\n",
       "      <th>verification_status_joint</th>\n",
       "      <td>1.000000</td>\n",
       "    </tr>\n",
       "    <tr>\n",
       "      <th>dti_joint</th>\n",
       "      <td>1.000000</td>\n",
       "    </tr>\n",
       "    <tr>\n",
       "      <th>annual_inc_joint</th>\n",
       "      <td>1.000000</td>\n",
       "    </tr>\n",
       "    <tr>\n",
       "      <th>mths_since_last_record</th>\n",
       "      <td>0.865666</td>\n",
       "    </tr>\n",
       "    <tr>\n",
       "      <th>mths_since_last_major_derog</th>\n",
       "      <td>0.787739</td>\n",
       "    </tr>\n",
       "    <tr>\n",
       "      <th>desc</th>\n",
       "      <td>0.729820</td>\n",
       "    </tr>\n",
       "    <tr>\n",
       "      <th>mths_since_last_delinq</th>\n",
       "      <td>0.536906</td>\n",
       "    </tr>\n",
       "  </tbody>\n",
       "</table>\n",
       "</div>"
      ],
      "text/plain": [
       "                                    0\n",
       "open_il_24m                  1.000000\n",
       "mths_since_rcnt_il           1.000000\n",
       "total_cu_tl                  1.000000\n",
       "inq_fi                       1.000000\n",
       "all_util                     1.000000\n",
       "max_bal_bc                   1.000000\n",
       "open_rv_24m                  1.000000\n",
       "open_rv_12m                  1.000000\n",
       "il_util                      1.000000\n",
       "total_bal_il                 1.000000\n",
       "inq_last_12m                 1.000000\n",
       "open_il_12m                  1.000000\n",
       "open_il_6m                   1.000000\n",
       "open_acc_6m                  1.000000\n",
       "verification_status_joint    1.000000\n",
       "dti_joint                    1.000000\n",
       "annual_inc_joint             1.000000\n",
       "mths_since_last_record       0.865666\n",
       "mths_since_last_major_derog  0.787739\n",
       "desc                         0.729820\n",
       "mths_since_last_delinq       0.536906"
      ]
     },
     "execution_count": 346,
     "metadata": {},
     "output_type": "execute_result"
    }
   ],
   "source": [
    "missing_values.sort_values([0], ascending=False)"
   ]
  },
  {
   "cell_type": "code",
   "execution_count": 347,
   "metadata": {},
   "outputs": [],
   "source": [
    "# Menghapus kolom dengan lebih dari 50% nilai null\n",
    "data.dropna(thresh=data.shape[0]*0.5, axis=1, inplace=True)"
   ]
  },
  {
   "cell_type": "code",
   "execution_count": 348,
   "metadata": {},
   "outputs": [
    {
     "data": {
      "text/html": [
       "<div>\n",
       "<style scoped>\n",
       "    .dataframe tbody tr th:only-of-type {\n",
       "        vertical-align: middle;\n",
       "    }\n",
       "\n",
       "    .dataframe tbody tr th {\n",
       "        vertical-align: top;\n",
       "    }\n",
       "\n",
       "    .dataframe thead th {\n",
       "        text-align: right;\n",
       "    }\n",
       "</style>\n",
       "<table border=\"1\" class=\"dataframe\">\n",
       "  <thead>\n",
       "    <tr style=\"text-align: right;\">\n",
       "      <th></th>\n",
       "      <th>0</th>\n",
       "    </tr>\n",
       "  </thead>\n",
       "  <tbody>\n",
       "  </tbody>\n",
       "</table>\n",
       "</div>"
      ],
      "text/plain": [
       "Empty DataFrame\n",
       "Columns: [0]\n",
       "Index: []"
      ]
     },
     "execution_count": 348,
     "metadata": {},
     "output_type": "execute_result"
    }
   ],
   "source": [
    "missing_values = pd.DataFrame(data.isnull().sum()/data.shape[0])\n",
    "missing_values = missing_values [missing_values.iloc[:, 0]>0.50]\n",
    "missing_values.sort_values([0], ascending=False)"
   ]
  },
  {
   "cell_type": "markdown",
   "metadata": {},
   "source": [
    "## 4. Data Splitting"
   ]
  },
  {
   "cell_type": "code",
   "execution_count": 350,
   "metadata": {},
   "outputs": [],
   "source": [
    "from sklearn.model_selection import train_test_split"
   ]
  },
  {
   "cell_type": "code",
   "execution_count": 351,
   "metadata": {},
   "outputs": [],
   "source": [
    "#membagi dataset menjadi 80% train dan 20% untuk test\n",
    "X = data.drop('good_bad', axis=1)\n",
    "y = data['good_bad']\n",
    "\n",
    "X_train, X_test, y_train, y_test = train_test_split(X, y, test_size=0.2, stratify= y, random_state=42)"
   ]
  },
  {
   "cell_type": "code",
   "execution_count": 352,
   "metadata": {},
   "outputs": [
    {
     "data": {
      "text/plain": [
       "((373028, 54), (93257, 54))"
      ]
     },
     "execution_count": 352,
     "metadata": {},
     "output_type": "execute_result"
    }
   ],
   "source": [
    "X_train.shape, X_test.shape"
   ]
  },
  {
   "cell_type": "code",
   "execution_count": 353,
   "metadata": {},
   "outputs": [
    {
     "data": {
      "text/plain": [
       "good_bad\n",
       "0    0.881333\n",
       "1    0.118667\n",
       "Name: proportion, dtype: float64"
      ]
     },
     "execution_count": 353,
     "metadata": {},
     "output_type": "execute_result"
    }
   ],
   "source": [
    "y_train.value_counts(normalize=True)"
   ]
  },
  {
   "cell_type": "code",
   "execution_count": 354,
   "metadata": {},
   "outputs": [
    {
     "data": {
      "text/plain": [
       "good_bad\n",
       "0    0.881339\n",
       "1    0.118661\n",
       "Name: proportion, dtype: float64"
      ]
     },
     "execution_count": 354,
     "metadata": {},
     "output_type": "execute_result"
    }
   ],
   "source": [
    "y_test.value_counts(normalize=True)"
   ]
  },
  {
   "cell_type": "markdown",
   "metadata": {},
   "source": [
    "## 5. Data Prepocessing"
   ]
  },
  {
   "cell_type": "code",
   "execution_count": 356,
   "metadata": {},
   "outputs": [
    {
     "name": "stdout",
     "output_type": "stream",
     "text": [
      "        Unnamed: 0        id  member_id  loan_amnt  funded_amnt  \\\n",
      "40390        40390    527379     682171       7200         7200   \n",
      "24349        24349    600784     771034      12000        12000   \n",
      "420905      420905  13146556   15168744      16000        16000   \n",
      "30522        30522    508280     655753       7000         7000   \n",
      "285358      285358  30185588   32728785       7200         7200   \n",
      "...            ...       ...        ...        ...          ...   \n",
      "339806      339806  12978874   15011046      10725        10725   \n",
      "234203      234203  37237456   40010203       6000         6000   \n",
      "391290      391290  16251496   18354028      22500        22500   \n",
      "282147      282147  29003998   31527200       3000         3000   \n",
      "234394      234394  37287460   40060211      18000        18000   \n",
      "\n",
      "        funded_amnt_inv        term  int_rate  installment grade  ...  \\\n",
      "40390       7195.872999   60 months     16.82       178.25     E  ...   \n",
      "24349      12000.000000   36 months     10.36       389.24     B  ...   \n",
      "420905     16000.000000   36 months     12.99       539.03     B  ...   \n",
      "30522       7000.000000   36 months      7.51       217.77     A  ...   \n",
      "285358      7200.000000   36 months     12.49       240.84     B  ...   \n",
      "...                 ...         ...       ...          ...   ...  ...   \n",
      "339806     10725.000000   60 months     25.89       320.42     G  ...   \n",
      "234203      6000.000000   36 months     11.99       199.26     B  ...   \n",
      "391290     22400.000000   36 months     10.99       736.52     B  ...   \n",
      "282147      3000.000000   36 months     13.35       101.59     C  ...   \n",
      "234394     18000.000000   36 months     12.99       606.41     C  ...   \n",
      "\n",
      "       last_pymnt_amnt next_pymnt_d last_credit_pull_d  \\\n",
      "40390           638.38       Feb-15             Jan-16   \n",
      "24349           400.47          NaN             Nov-13   \n",
      "420905          539.03       Feb-16             Jan-16   \n",
      "30522           236.10          NaN             May-13   \n",
      "285358          240.84       Feb-16             Jan-16   \n",
      "...                ...          ...                ...   \n",
      "339806          320.42       Feb-16             Jan-16   \n",
      "234203          199.26          NaN             Jan-16   \n",
      "391290          792.25       Feb-16             Jan-16   \n",
      "282147          101.59          NaN             Jan-16   \n",
      "234394          606.41       Feb-16             Jan-16   \n",
      "\n",
      "       collections_12_mths_ex_med  policy_code application_type  \\\n",
      "40390                         0.0            1       INDIVIDUAL   \n",
      "24349                         0.0            1       INDIVIDUAL   \n",
      "420905                        0.0            1       INDIVIDUAL   \n",
      "30522                         0.0            1       INDIVIDUAL   \n",
      "285358                        0.0            1       INDIVIDUAL   \n",
      "...                           ...          ...              ...   \n",
      "339806                        0.0            1       INDIVIDUAL   \n",
      "234203                        0.0            1       INDIVIDUAL   \n",
      "391290                        0.0            1       INDIVIDUAL   \n",
      "282147                        0.0            1       INDIVIDUAL   \n",
      "234394                        1.0            1       INDIVIDUAL   \n",
      "\n",
      "       acc_now_delinq tot_coll_amt tot_cur_bal total_rev_hi_lim  \n",
      "40390             0.0          NaN         NaN              NaN  \n",
      "24349             0.0          NaN         NaN              NaN  \n",
      "420905            0.0          0.0    162286.0           8400.0  \n",
      "30522             0.0          NaN         NaN              NaN  \n",
      "285358            0.0          0.0     26955.0          33700.0  \n",
      "...               ...          ...         ...              ...  \n",
      "339806            0.0          0.0      7425.0           9800.0  \n",
      "234203            0.0          0.0    106865.0           6000.0  \n",
      "391290            0.0          0.0    198740.0          56400.0  \n",
      "282147            0.0          0.0    193904.0          32400.0  \n",
      "234394            0.0          0.0    164462.0          59800.0  \n",
      "\n",
      "[373028 rows x 54 columns]\n"
     ]
    }
   ],
   "source": [
    "print(X_train)"
   ]
  },
  {
   "cell_type": "code",
   "execution_count": 357,
   "metadata": {},
   "outputs": [
    {
     "name": "stdout",
     "output_type": "stream",
     "text": [
      "term\n",
      "[' 60 months' ' 36 months']\n",
      "\n",
      "grade\n",
      "['E' 'B' 'A' 'C' 'D' 'F' 'G']\n",
      "\n",
      "sub_grade\n",
      "['E2' 'B5' 'A4' 'C5' 'A2' 'B3' 'C4' 'D4' 'A5' 'C2' 'D1' 'E4' 'D5' 'D2'\n",
      " 'A1' 'B4' 'B1' 'A3' 'B2' 'D3' 'C3' 'E3' 'F1' 'E1' 'E5' 'C1' 'F4' 'G1'\n",
      " 'F5' 'G3' 'F2' 'G2' 'F3' 'G5' 'G4']\n",
      "\n",
      "emp_title\n"
     ]
    },
    {
     "name": "stdout",
     "output_type": "stream",
     "text": [
      "['IBM' 'Mars Chocolate na' 'Strategic Account Manager' ...\n",
      " 'all for you photography' 'Amazon Fulfillment - RIC2 Stower'\n",
      " 'engineering assitant']\n",
      "\n",
      "emp_length\n",
      "['4 years' '10+ years' '3 years' '2 years' '< 1 year' '7 years' '6 years'\n",
      " '1 year' '8 years' '9 years' '5 years' nan]\n",
      "\n",
      "home_ownership\n",
      "['MORTGAGE' 'RENT' 'OWN' 'OTHER' 'NONE' 'ANY']\n",
      "\n",
      "verification_status\n",
      "['Verified' 'Not Verified' 'Source Verified']\n",
      "\n",
      "issue_d\n",
      "['Jun-10' 'Oct-10' 'Mar-14' 'May-10' 'Oct-14' 'Feb-14' 'Nov-14' 'Oct-13'\n",
      " 'Jan-14' 'Nov-13' 'Jun-14' 'Apr-14' 'Nov-12' 'Aug-14' 'May-14' 'Oct-09'\n",
      " 'Feb-13' 'Oct-12' 'Apr-11' 'Sep-13' 'Mar-10' 'Jul-14' 'Sep-14' 'Mar-13'\n",
      " 'Feb-12' 'May-13' 'Aug-13' 'Apr-13' 'Jul-12' 'Jan-13' 'Dec-07' 'Dec-11'\n",
      " 'Nov-10' 'Jun-09' 'Dec-12' 'Jun-13' 'Aug-11' 'Nov-09' 'Jun-12' 'Jan-11'\n",
      " 'Feb-11' 'Dec-13' 'Sep-11' 'Sep-09' 'Sep-10' 'May-09' 'Apr-12' 'Sep-08'\n",
      " 'May-11' 'Dec-14' 'Aug-09' 'Jul-13' 'Aug-12' 'Mar-11' 'Jan-09' 'Jan-10'\n",
      " 'Feb-09' 'Nov-11' 'Dec-10' 'Dec-09' 'May-12' 'Mar-12' 'Feb-08' 'Apr-10'\n",
      " 'Apr-09' 'Jun-11' 'Jul-10' 'Aug-10' 'Sep-12' 'Feb-10' 'Jun-08' 'Jul-11'\n",
      " 'Oct-11' 'Jan-08' 'Apr-08' 'Jan-12' 'Mar-09' 'Oct-08' 'May-08' 'Jul-08'\n",
      " 'Jul-09' 'Oct-07' 'Dec-08' 'Aug-07' 'Mar-08' 'Nov-07' 'Nov-08' 'Jul-07'\n",
      " 'Sep-07' 'Jun-07' 'Aug-08']\n",
      "\n",
      "loan_status\n",
      "['Does not meet the credit policy. Status:Fully Paid' 'Fully Paid'\n",
      " 'Current' 'Charged Off' 'Late (31-120 days)'\n",
      " 'Does not meet the credit policy. Status:Charged Off' 'In Grace Period'\n",
      " 'Default' 'Late (16-30 days)']\n",
      "\n",
      "pymnt_plan\n",
      "['n' 'y']\n",
      "\n",
      "url\n",
      "['https://www.lendingclub.com/browse/loanDetail.action?loan_id=527379'\n",
      " 'https://www.lendingclub.com/browse/loanDetail.action?loan_id=600784'\n",
      " 'https://www.lendingclub.com/browse/loanDetail.action?loan_id=13146556'\n",
      " ...\n",
      " 'https://www.lendingclub.com/browse/loanDetail.action?loan_id=16251496'\n",
      " 'https://www.lendingclub.com/browse/loanDetail.action?loan_id=29003998'\n",
      " 'https://www.lendingclub.com/browse/loanDetail.action?loan_id=37287460']\n",
      "\n",
      "purpose\n",
      "['credit_card' 'home_improvement' 'debt_consolidation' 'major_purchase'\n",
      " 'medical' 'educational' 'car' 'small_business' 'vacation' 'moving'\n",
      " 'other' 'wedding' 'house' 'renewable_energy']\n",
      "\n",
      "title\n",
      "['Credit Card Refi' 'Home improvment' 'Debt consolidation' ...\n",
      " 'Firebird loan' 'MY DEBT PAYOFF' 'help pay off debt and fund my business']\n",
      "\n",
      "zip_code\n",
      "['300xx' '088xx' '344xx' '774xx' '308xx' '921xx' '551xx' '721xx' '072xx'\n",
      " '283xx' '208xx' '071xx' '902xx' '907xx' '112xx' '623xx' '018xx' '760xx'\n",
      " '328xx' '188xx' '482xx' '729xx' '786xx' '297xx' '900xx' '608xx' '750xx'\n",
      " '958xx' '191xx' '956xx' '141xx' '103xx' '941xx' '301xx' '012xx' '882xx'\n",
      " '333xx' '606xx' '172xx' '770xx' '089xx' '950xx' '794xx' '445xx' '410xx'\n",
      " '142xx' '953xx' '893xx' '891xx' '809xx' '014xx' '736xx' '113xx' '305xx'\n",
      " '640xx' '360xx' '461xx' '852xx' '547xx' '241xx' '801xx' '467xx' '189xx'\n",
      " '604xx' '282xx' '427xx' '302xx' '373xx' '100xx' '951xx' '306xx' '974xx'\n",
      " '959xx' '336xx' '209xx' '703xx' '335xx' '926xx' '194xx' '271xx' '077xx'\n",
      " '346xx' '800xx' '303xx' '322xx' '923xx' '954xx' '757xx' '554xx' '549xx'\n",
      " '117xx' '970xx' '292xx' '400xx' '211xx' '066xx' '111xx' '492xx' '978xx'\n",
      " '448xx' '548xx' '220xx' '496xx' '347xx' '352xx' '802xx' '380xx' '795xx'\n",
      " '144xx' '759xx' '980xx' '331xx' '917xx' '483xx' '317xx' '315xx' '973xx'\n",
      " '223xx' '922xx' '544xx' '201xx' '330xx' '782xx' '122xx' '895xx' '212xx'\n",
      " '462xx' '230xx' '337xx' '600xx' '919xx' '286xx' '945xx' '129xx' '571xx'\n",
      " '074xx' '338xx' '913xx' '150xx' '025xx' '200xx' '940xx' '125xx' '440xx'\n",
      " '676xx' '334xx' '705xx' '932xx' '342xx' '061xx' '484xx' '296xx' '982xx'\n",
      " '981xx' '067xx' '252xx' '193xx' '309xx' '437xx' '435xx' '371xx' '325xx'\n",
      " '010xx' '104xx' '275xx' '666xx' '875xx' '087xx' '307xx' '853xx' '781xx'\n",
      " '190xx' '857xx' '701xx' '225xx' '712xx' '411xx' '706xx' '295xx' '105xx'\n",
      " '972xx' '120xx' '218xx' '329xx' '598xx' '177xx' '641xx' '806xx' '601xx'\n",
      " '752xx' '433xx' '021xx' '880xx' '761xx' '031xx' '799xx' '173xx' '073xx'\n",
      " '631xx' '948xx' '985xx' '204xx' '925xx' '814xx' '908xx' '957xx' '743xx'\n",
      " '349xx' '327xx' '151xx' '028xx' '960xx' '280xx' '174xx' '463xx' '164xx'\n",
      " '730xx' '991xx' '465xx' '773xx' '458xx' '904xx' '116xx' '080xx' '490xx'\n",
      " '481xx' '494xx' '341xx' '221xx' '662xx' '060xx' '713xx' '115xx' '722xx'\n",
      " '076xx' '633xx' '370xx' '402xx' '936xx' '050xx' '912xx' '787xx' '082xx'\n",
      " '670xx' '930xx' '063xx' '186xx' '660xx' '790xx' '984xx' '431xx' '210xx'\n",
      " '374xx' '249xx' '720xx' '388xx' '566xx' '222xx' '023xx' '645xx' '070xx'\n",
      " '228xx' '452xx' '851xx' '232xx' '478xx' '020xx' '165xx' '324xx' '775xx'\n",
      " '473xx' '983xx' '927xx' '531xx' '029xx' '441xx' '321xx' '890xx' '480xx'\n",
      " '493xx' '532xx' '372xx' '131xx' '130xx' '968xx' '550xx' '914xx' '920xx'\n",
      " '432xx' '952xx' '364xx' '184xx' '152xx' '937xx' '784xx' '320xx' '573xx'\n",
      " '724xx' '710xx' '422xx' '386xx' '197xx' '624xx' '185xx' '285xx' '840xx'\n",
      " '290xx' '277xx' '314xx' '121xx' '475xx' '030xx' '451xx' '610xx' '611xx'\n",
      " '294xx' '748xx' '864xx' '354xx' '928xx' '124xx' '430xx' '749xx' '273xx'\n",
      " '456xx' '231xx' '674xx' '731xx' '751xx' '284xx' '196xx' '935xx' '675xx'\n",
      " '995xx' '986xx' '485xx' '865xx' '977xx' '224xx' '605xx' '495xx' '195xx'\n",
      " '239xx' '990xx' '559xx' '630xx' '826xx' '993xx' '147xx' '661xx' '016xx'\n",
      " '293xx' '181xx' '711xx' '931xx' '403xx' '155xx' '609xx' '206xx' '114xx'\n",
      " '442xx' '081xx' '017xx' '602xx' '304xx' '216xx' '897xx' '615xx' '704xx'\n",
      " '133xx' '652xx' '272xx' '620xx' '665xx' '488xx' '083xx' '906xx' '545xx'\n",
      " '421xx' '140xx' '038xx' '464xx' '780xx' '359xx' '479xx' '318xx' '737xx'\n",
      " '755xx' '056xx' '658xx' '109xx' '541xx' '672xx' '616xx' '015xx' '453xx'\n",
      " '793xx' '170xx' '291xx' '997xx' '597xx' '178xx' '366xx' '998xx' '850xx'\n",
      " '767xx' '265xx' '949xx' '255xx' '841xx' '577xx' '085xx' '086xx' '562xx'\n",
      " '237xx' '199xx' '207xx' '123xx' '238xx' '636xx' '068xx' '110xx' '180xx'\n",
      " '847xx' '563xx' '766xx' '946xx' '539xx' '975xx' '107xx' '769xx' '166xx'\n",
      " '558xx' '357xx' '405xx' '560xx' '967xx' '856xx' '219xx' '064xx' '287xx'\n",
      " '816xx' '420xx' '146xx' '226xx' '439xx' '785xx' '350xx' '754xx' '156xx'\n",
      " '489xx' '971xx' '797xx' '961xx' '134xx' '614xx' '460xx' '234xx' '762xx'\n",
      " '618xx' '162xx' '486xx' '468xx' '859xx' '254xx' '078xx' '233xx' '365xx'\n",
      " '718xx' '933xx' '756xx' '339xx' '436xx' '253xx' '011xx' '622xx' '810xx'\n",
      " '138xx' '648xx' '326xx' '619xx' '358xx' '874xx' '019xx' '939xx' '363xx'\n",
      " '916xx' '543xx' '444xx' '905xx' '740xx' '443xx' '075xx' '637xx' '313xx'\n",
      " '236xx' '027xx' '884xx' '323xx' '356xx' '791xx' '727xx' '910xx' '379xx'\n",
      " '765xx' '026xx' '657xx' '276xx' '217xx' '667xx' '788xx' '655xx' '768xx'\n",
      " '726xx' '128xx' '811xx' '764xx' '860xx' '487xx' '132xx' '168xx' '137xx'\n",
      " '235xx' '119xx' '714xx' '260xx' '707xx' '470xx' '553xx' '592xx' '763xx'\n",
      " '376xx' '171xx' '381xx' '054xx' '870xx' '678xx' '596xx' '843xx' '725xx'\n",
      " '065xx' '256xx' '079xx' '915xx' '546xx' '310xx' '825xx' '947xx' '855xx'\n",
      " '599xx' '656xx' '394xx' '062xx' '298xx' '741xx' '717xx' '903xx' '894xx'\n",
      " '135xx' '647xx' '351xx' '229xx' '450xx' '069xx' '575xx' '118xx' '274xx'\n",
      " '106xx' '377xx' '423xx' '270xx' '136xx' '368xx' '058xx' '032xx' '567xx'\n",
      " '248xx' '934xx' '708xx' '251xx' '845xx' '607xx' '281xx' '383xx' '407xx'\n",
      " '034xx' '279xx' '557xx' '471xx' '593xx' '385xx' '783xx' '988xx' '617xx'\n",
      " '176xx' '918xx' '805xx' '257xx' '664xx' '278xx' '390xx' '992xx' '700xx'\n",
      " '804xx' '844xx' '734xx' '625xx' '846xx' '446xx' '299xx' '989xx' '772xx'\n",
      " '057xx' '644xx' '898xx' '820xx' '145xx' '746xx' '247xx' '646xx' '159xx'\n",
      " '454xx' '393xx' '530xx' '590xx' '653xx' '153xx' '476xx' '944xx' '126xx'\n",
      " '392xx' '779xx' '812xx' '680xx' '024xx' '871xx' '127xx' '540xx' '158xx'\n",
      " '534xx' '739xx' '924xx' '999xx' '570xx' '535xx' '250xx' '650xx' '591xx'\n",
      " '827xx' '808xx' '378xx' '396xx' '013xx' '101xx' '198xx' '391xx' '716xx'\n",
      " '161xx' '163xx' '815xx' '160xx' '574xx' '673xx' '240xx' '187xx' '943xx'\n",
      " '052xx' '183xx' '434xx' '738xx' '474xx' '384xx' '214xx' '262xx' '627xx'\n",
      " '873xx' '227xx' '401xx' '572xx' '404xx' '537xx' '565xx' '245xx' '719xx'\n",
      " '244xx' '182xx' '976xx' '154xx' '613xx' '499xx' '175xx' '361xx' '628xx'\n",
      " '051xx' '778xx' '477xx' '612xx' '472xx' '542xx' '035xx' '466xx' '564xx'\n",
      " '417xx' '824xx' '803xx' '911xx' '654xx' '264xx' '242xx' '469xx' '626xx'\n",
      " '316xx' '169xx' '179xx' '412xx' '561xx' '823xx' '594xx' '735xx' '491xx'\n",
      " '406xx' '362xx' '139xx' '148xx' '215xx' '037xx' '108xx' '723xx' '319xx'\n",
      " '449xx' '367xx' '355xx' '395xx' '157xx' '143xx' '813xx' '955xx' '796xx'\n",
      " '777xx' '457xx' '498xx' '246xx' '497xx' '996xx' '288xx' '963xx' '671xx'\n",
      " '053xx' '424xx' '881xx' '629xx' '455xx' '744xx' '776xx' '447xx' '312xx'\n",
      " '243xx' '438xx' '830xx' '022xx' '863xx' '409xx' '679xx' '149xx' '416xx'\n",
      " '877xx' '836xx' '418xx' '669xx' '747xx' '382xx' '268xx' '635xx' '807xx'\n",
      " '408xx' '415xx' '831xx' '266xx' '837xx' '102xx' '267xx' '638xx' '398xx'\n",
      " '878xx' '728xx' '096xx' '259xx' '789xx' '261xx' '634xx' '603xx' '651xx'\n",
      " '084xx' '263xx' '059xx' '758xx' '829xx' '798xx' '426xx' '556xx' '832xx'\n",
      " '576xx' '389xx' '639xx' '994xx' '033xx' '167xx' '332xx' '879xx' '425xx'\n",
      " '753xx' '413xx' '049xx' '861xx' '528xx' '595xx' '538xx' '677xx' '883xx'\n",
      " '387xx' '258xx' '979xx' '397xx' '745xx' '828xx' '090xx' '822xx' '888xx'\n",
      " '094xx' '289xx' '834xx' '524xx' '668xx' '792xx' '582xx' '041xx' '369xx'\n",
      " '962xx' '098xx' '311xx' '036xx' '682xx' '838xx' '909xx' '044xx' '821xx'\n",
      " '689xx' '527xx' '969xx' '091xx' '587xx' '007xx' '414xx' '685xx' '691xx'\n",
      " '523xx' '681xx' '621xx' '929xx' '901xx' '514xx' '503xx' '569xx' '942xx'\n",
      " '854xx' '092xx' '375xx' '663xx' '093xx' '938xx' '833xx' '043xx' '511xx'\n",
      " '429xx' '513xx' '643xx' '500xx' '353xx' '203xx' '040xx' '965xx' '516xx']\n",
      "\n",
      "addr_state\n",
      "['GA' 'NJ' 'FL' 'TX' 'CA' 'MN' 'AR' 'NC' 'MD' 'NY' 'IL' 'MA' 'PA' 'MI'\n",
      " 'SC' 'NM' 'OH' 'KY' 'NV' 'CO' 'OK' 'MO' 'AL' 'IN' 'AZ' 'WI' 'VA' 'TN'\n",
      " 'OR' 'LA' 'CT' 'WA' 'SD' 'DC' 'KS' 'WV' 'MT' 'NH' 'RI' 'VT' 'MS' 'HI'\n",
      " 'DE' 'UT' 'AK' 'WY' 'NE' 'ID' 'IA' 'ME']\n",
      "\n",
      "earliest_cr_line\n",
      "['Jan-89' 'Aug-90' 'Feb-01' 'Aug-98' 'Sep-91' 'Aug-03' 'Aug-81' 'Jun-07'\n",
      " 'Apr-87' 'Apr-03' 'Apr-06' 'Nov-07' 'Jun-67' 'May-01' 'Feb-91' 'Feb-06'\n",
      " 'Sep-97' 'Jan-83' 'Mar-87' 'Mar-93' 'Oct-98' 'Oct-91' 'Dec-90' 'May-99'\n",
      " 'Jan-03' 'Mar-96' 'Mar-04' 'Aug-92' 'Aug-05' 'Jan-00' 'Oct-99' 'Jul-03'\n",
      " 'Apr-01' 'Nov-96' 'Aug-00' 'Jan-99' 'Jul-08' 'Jan-87' 'Jul-01' 'Mar-99'\n",
      " 'Jan-85' 'May-90' 'Dec-91' 'Dec-94' 'Dec-95' 'Aug-96' 'Jul-78' 'Sep-02'\n",
      " 'Nov-97' 'Dec-92' 'Aug-99' 'Jan-92' 'Sep-95' 'Nov-10' 'Jan-90' 'Feb-04'\n",
      " 'Sep-98' 'Dec-80' 'Jun-04' 'Mar-01' 'Jun-00' 'Aug-01' 'Feb-00' 'Jan-93'\n",
      " 'Feb-98' 'Dec-06' 'Dec-99' 'Sep-96' 'Jun-89' 'Oct-94' 'Oct-04' 'Sep-04'\n",
      " 'Nov-89' 'Jul-05' 'Jul-96' 'May-04' 'Oct-08' 'Nov-93' 'Dec-97' 'Apr-98'\n",
      " 'Oct-93' 'Jul-91' 'Jan-88' 'Oct-01' 'Jun-83' 'Sep-89' 'Feb-99' 'Oct-02'\n",
      " 'Sep-01' 'Dec-02' 'Nov-90' 'Oct-97' 'Dec-98' 'Jul-02' 'Mar-06' 'Nov-02'\n",
      " 'Nov-00' 'Sep-84' 'May-00' 'Dec-84' 'Sep-86' 'Oct-96' 'Apr-02' 'Apr-07'\n",
      " 'Aug-94' 'Sep-81' 'Jan-98' 'Aug-97' 'Mar-05' 'Sep-99' 'Sep-03' 'Nov-99'\n",
      " 'May-03' 'Dec-01' 'Jan-07' 'Dec-05' 'May-98' 'Dec-96' 'Feb-02' 'Jun-97'\n",
      " 'May-92' 'Mar-85' 'Jul-09' 'Jul-87' 'May-70' 'Apr-96' 'Feb-03' 'Aug-95'\n",
      " 'Jun-92' 'Mar-00' 'Apr-92' 'Aug-83' 'Dec-03' 'Apr-99' 'Feb-97' 'Dec-93'\n",
      " 'Sep-74' 'Feb-07' 'Nov-98' 'May-89' 'May-96' 'Jan-06' 'Oct-07' 'Jun-95'\n",
      " 'Mar-92' 'Jan-95' 'Aug-86' 'Mar-03' 'Aug-82' 'Oct-10' 'Aug-11' 'Jun-94'\n",
      " 'Jan-75' 'Dec-04' 'Mar-83' 'Jan-02' 'Sep-93' 'Aug-93' 'May-06' 'Apr-68'\n",
      " 'Feb-82' 'Aug-04' 'Apr-05' 'Nov-86' 'Dec-00' 'Oct-77' 'Jul-98' 'Dec-81'\n",
      " 'May-79' 'Jul-90' 'Mar-10' 'Jan-97' 'Jan-67' 'Jul-97' 'Nov-91' 'Feb-78'\n",
      " 'May-02' 'Sep-00' 'Jan-01' 'Jul-94' 'May-94' 'Jul-79' 'Oct-00' 'Jun-06'\n",
      " 'Oct-90' 'Aug-02' 'Oct-95' 'Oct-85' 'Mar-94' 'Jan-86' 'Mar-97' 'Jul-83'\n",
      " 'Jul-92' 'Mar-90' 'Jul-81' 'Jan-04' 'Nov-04' 'Apr-95' 'May-84' 'Oct-03'\n",
      " 'Jun-98' 'Nov-92' 'Oct-09' 'Feb-05' 'Nov-01' 'Aug-89' 'Jun-03' 'Jan-91'\n",
      " 'Apr-83' 'Apr-00' 'Jan-78' 'Jul-07' 'Jul-00' 'Feb-94' 'Aug-06' 'Jan-80'\n",
      " 'Aug-07' 'Nov-05' 'Sep-05' 'Jul-06' 'Sep-92' 'Jun-01' 'Jun-75' 'Mar-07'\n",
      " 'Oct-92' 'Jun-96' 'Mar-02' 'Aug-87' 'Apr-97' 'Apr-90' 'Nov-87' 'Nov-09'\n",
      " 'Nov-03' 'Nov-95' 'Apr-84' 'May-07' 'Aug-10' 'Aug-69' 'May-83' 'Jun-02'\n",
      " 'May-95' 'Nov-88' 'Jan-96' 'Sep-07' 'Apr-08' 'Feb-87' 'Jun-88' 'Jul-88'\n",
      " 'Jun-90' 'Feb-84' 'Nov-08' 'Nov-85' 'Sep-09' 'Apr-10' 'Jun-99' 'Feb-96'\n",
      " 'Oct-05' 'Feb-95' 'Oct-89' 'Mar-69' 'Mar-82' 'Apr-91' 'Dec-75' 'Mar-98'\n",
      " 'Jul-82' 'Jan-05' 'Nov-06' 'May-05' 'May-93' 'Mar-86' 'Feb-80' 'Jun-91'\n",
      " 'Sep-11' 'Sep-88' 'Jan-94' 'Oct-74' 'Oct-69' 'Sep-90' 'Aug-85' 'Oct-06'\n",
      " 'Apr-80' 'Sep-10' 'May-91' 'Feb-08' 'Jul-99' 'Feb-92' 'May-97' 'Dec-82'\n",
      " 'Sep-06' 'Jul-04' 'Aug-84' 'Mar-08' 'Sep-82' 'May-09' 'Sep-65' 'Feb-85'\n",
      " 'Jul-93' 'Oct-76' 'May-08' 'Jun-93' 'Sep-94' 'Dec-07' 'Nov-94' 'May-81'\n",
      " 'Dec-87' 'Dec-76' 'Mar-95' 'Jul-84' 'Oct-82' 'Apr-88' 'Apr-86' 'Oct-88'\n",
      " 'Apr-04' 'Jan-82' 'Feb-89' 'May-88' 'Jan-10' 'Jun-05' 'Mar-74' 'Apr-94'\n",
      " 'Feb-86' 'Jan-77' 'Jul-86' 'Aug-88' 'Aug-79' 'Jan-79' 'Oct-87' 'Dec-85'\n",
      " 'Dec-89' 'Dec-86' 'Jan-68' 'Jan-84' 'Oct-81' 'Aug-78' 'Apr-82' 'Feb-93'\n",
      " 'Jun-08' 'May-87' 'Mar-91' 'Aug-91' 'Feb-88' 'Mar-68' 'Apr-74' 'May-86'\n",
      " 'Aug-68' 'Oct-84' 'Apr-93' 'Nov-84' 'Jan-08' 'Apr-09' 'Aug-71' 'Nov-81'\n",
      " 'Jun-78' 'Jan-81' 'Nov-79' 'Dec-88' 'Feb-90' 'Dec-77' 'Jun-09' 'Aug-08'\n",
      " 'Jun-70' 'Apr-89' 'Oct-75' 'Oct-80' 'Sep-08' 'Sep-83' 'Feb-10' 'Aug-77'\n",
      " 'Dec-79' 'Oct-83' 'Apr-77' 'Mar-89' 'Mar-72' 'Jul-85' 'Jun-76' 'May-85'\n",
      " 'Jan-09' 'Aug-80' 'Jun-87' 'Nov-80' 'Feb-79' 'Mar-88' 'Oct-86' 'Nov-82'\n",
      " 'Dec-83' 'Aug-75' 'Sep-76' 'Jul-11' 'Feb-09' 'Feb-71' 'Mar-81' 'Sep-79'\n",
      " 'Jun-86' 'Jun-72' 'Jun-82' 'Jun-81' 'Sep-85' 'Feb-74' 'Feb-81' 'Jul-71'\n",
      " 'Mar-79' 'Apr-78' 'Nov-74' 'Nov-64' 'May-73' 'Mar-77' 'Sep-69' 'Jul-10'\n",
      " 'Jan-76' 'Feb-75' 'Apr-66' 'May-82' 'Jul-95' 'Nov-73' 'Nov-83' 'Jun-84'\n",
      " 'Apr-79' 'Jun-77' 'Oct-70' 'Apr-85' 'Mar-80' 'Nov-76' 'Apr-73' 'Nov-78'\n",
      " 'Dec-70' 'Sep-87' 'Jun-85' 'Dec-72' 'Dec-73' 'May-75' 'Aug-76' 'Dec-78'\n",
      " 'May-77' 'May-10' 'Aug-73' 'Feb-77' 'Apr-75' 'Jan-74' 'Oct-73' 'Oct-79'\n",
      " 'Mar-09' 'Nov-67' 'Mar-71' 'Apr-76' 'Jan-65' 'Apr-81' 'Mar-84' 'Sep-80'\n",
      " 'Sep-78' 'Jun-79' 'Jul-89' 'Jun-10' 'Dec-09' 'Jun-73' 'Oct-60' 'Nov-69'\n",
      " 'Oct-78' 'May-74' 'Aug-09' 'Sep-77' 'Dec-10' 'Feb-83' 'Nov-70' 'Jun-61'\n",
      " 'May-80' 'Jan-70' 'Feb-69' 'Dec-74' 'Jan-72' 'Jul-77' 'Dec-08' 'Jan-73'\n",
      " 'Nov-66' 'Mar-78' 'Oct-65' 'Jun-69' 'Nov-75' 'Feb-67' 'Jan-11' 'May-58'\n",
      " 'Feb-72' 'Aug-67' 'Jun-11' 'Jul-80' 'Aug-74' 'Mar-70' 'Mar-11' 'Jun-80'\n",
      " 'Sep-67' 'Oct-71' 'Feb-68' 'Apr-72' 'Nov-72' 'Apr-11' 'Mar-76' nan\n",
      " 'Nov-77' 'Sep-72' 'Jul-76' 'May-11' 'May-76' 'May-78' 'Jul-69' 'May-72'\n",
      " 'Oct-72' 'Jun-66' 'Aug-72' 'Mar-75' 'Oct-62' 'Apr-70' 'May-69' 'Feb-11'\n",
      " 'Jan-69' 'Dec-71' 'Jul-73' 'Feb-76' 'Jul-72' 'Nov-68' 'Apr-64' 'Jul-75'\n",
      " 'Jun-68' 'Aug-65' 'Aug-70' 'Jul-70' 'Jun-74' 'Jul-68' 'Sep-75' 'Sep-73'\n",
      " 'Jul-67' 'Sep-70' 'Sep-64' 'Apr-71' 'Jun-71' 'May-68' 'Jan-60' 'Jul-74'\n",
      " 'Feb-70' 'Jan-62' 'Mar-73' 'May-67' 'Oct-11' 'Apr-61' 'Dec-68' 'Jul-60'\n",
      " 'May-71' 'Feb-73' 'Dec-69' 'May-63' 'Oct-68' 'Sep-71' 'Jan-57' 'Jun-62'\n",
      " 'Nov-56' 'Jul-65' 'Sep-66' 'Mar-67' 'Nov-71' 'Jan-54' 'Oct-67' 'Jun-60'\n",
      " 'Nov-61' 'Jan-64' 'Jan-55' 'Jun-65' 'Sep-62' 'Jun-58' 'Dec-66' 'May-65'\n",
      " 'May-66' 'Sep-59' 'Jun-59' 'Dec-67' 'Dec-62' 'Apr-67' 'Mar-63' 'Dec-65'\n",
      " 'Aug-46' 'Jun-63' 'Jun-64' 'Sep-68' 'Jan-71' 'Jan-63' 'Jan-61' 'May-64'\n",
      " 'Jan-53' 'Jul-63' 'Mar-60' 'Apr-63' 'Feb-65' 'Nov-65' 'Dec-64' 'Nov-63'\n",
      " 'Apr-69' 'Feb-66' 'Mar-66' 'Mar-64' 'Aug-66' 'May-53' 'Oct-66' 'Nov-11'\n",
      " 'Oct-64' 'Oct-61' 'Aug-58' 'Dec-58' 'Jan-58' 'Jul-61' 'Dec-56' 'Aug-60'\n",
      " 'Jul-64' 'Jul-66' 'Feb-61' 'Jan-44' 'Jan-66' 'Oct-63' 'Apr-65' 'Nov-59'\n",
      " 'May-59' 'Feb-64' 'Aug-64' 'Mar-65' 'May-60' 'Oct-57' 'Nov-58' 'Feb-57'\n",
      " 'Sep-63' 'Nov-54' 'Dec-50' 'Oct-58' 'Jan-59' 'Feb-60' 'Oct-59' 'Aug-62'\n",
      " 'Dec-60' 'May-50' 'Jul-59' 'Nov-60' 'Nov-55' 'Dec-63' 'Aug-61' 'Jun-49'\n",
      " 'Apr-55' 'Aug-63' 'Mar-62' 'Jul-58' 'Nov-53' 'Dec-51' 'May-62' 'Apr-62'\n",
      " 'Jan-46' 'Jul-55' 'Jan-56' 'Jan-51' 'Oct-50' 'Feb-63' 'Sep-56' 'Mar-61']\n",
      "\n",
      "initial_list_status\n",
      "['f' 'w']\n",
      "\n",
      "last_pymnt_d\n",
      "['Jan-15' 'Nov-13' 'Jan-16' 'May-13' 'Dec-15' 'Oct-15' 'Feb-15' 'Nov-15'\n",
      " 'Mar-14' 'Jul-15' 'Nov-12' 'Dec-14' 'Apr-15' 'Jan-14' 'Nov-11' 'Mar-13'\n",
      " 'Sep-15' 'Mar-15' 'Jul-13' 'Apr-14' 'Sep-13' 'Aug-15' 'Jun-15' 'Aug-13'\n",
      " 'Jul-14' 'Oct-08' 'Jun-14' 'May-15' 'Mar-12' 'May-14' 'Sep-14' 'Jun-10'\n",
      " 'Aug-14' 'Mar-10' 'May-12' 'Oct-14' 'Sep-11' 'Sep-12' 'Apr-13' 'Oct-11'\n",
      " 'Oct-13' 'Nov-14' 'Apr-12' 'Dec-10' 'Dec-12' 'Jun-13' 'Jan-12' 'Aug-08'\n",
      " 'Feb-12' 'Jan-13' 'Jun-11' 'Oct-12' 'Dec-13' 'Aug-12' 'Jul-12' 'Feb-13'\n",
      " 'Feb-14' 'Sep-09' 'May-10' 'Apr-11' 'Oct-10' 'Jan-11' 'Feb-09' 'May-11'\n",
      " 'Dec-09' nan 'Mar-11' 'Jun-12' 'Dec-11' 'Apr-10' 'Sep-10' 'Jun-09'\n",
      " 'Feb-11' 'Jul-10' 'Nov-09' 'Aug-11' 'Mar-08' 'Jan-10' 'Jul-08' 'Feb-10'\n",
      " 'Apr-09' 'Jul-11' 'Aug-10' 'Nov-10' 'Mar-09' 'Jun-08' 'May-08' 'Jul-09'\n",
      " 'Oct-09' 'Sep-08' 'Dec-08' 'Aug-09' 'Apr-08' 'May-09' 'Jan-09' 'Nov-08'\n",
      " 'Jan-08' 'Feb-08' 'Dec-07']\n",
      "\n",
      "next_pymnt_d\n",
      "['Feb-15' nan 'Feb-16' 'Jan-16' 'Oct-09' 'Jul-10' 'Apr-12' 'Jun-12'\n",
      " 'Nov-11' 'Sep-08' 'Feb-10' 'Feb-14' 'Mar-09' 'Dec-13' 'Jun-11' 'May-10'\n",
      " 'Mar-16' 'Oct-10' 'Nov-09' 'Feb-11' 'Sep-10' 'Mar-13' 'Oct-12' 'May-12'\n",
      " 'Nov-10' 'Mar-10' 'Jun-13' 'Sep-12' 'Oct-11' 'Mar-11' 'Jun-09' 'Dec-09'\n",
      " 'Apr-11' 'Feb-12' 'Dec-11' 'Mar-08' 'Aug-12' 'May-09' 'May-11' 'Dec-10'\n",
      " 'Sep-13' 'Jun-10' 'Apr-13' 'Mar-12' 'Jul-12' 'Feb-13' 'Aug-10' 'Sep-11'\n",
      " 'Apr-10' 'Dec-08' 'Mar-14' 'May-14' 'Sep-15' 'May-13' 'Aug-11' 'Aug-15'\n",
      " 'Jan-10' 'Jan-11' 'Jul-13' 'Apr-08' 'Dec-12' 'Sep-09' 'Jan-13' 'Jan-09'\n",
      " 'Jul-15' 'Jan-12' 'Oct-13' 'Jul-11' 'Feb-09' 'Nov-13' 'Aug-13' 'May-15'\n",
      " 'Nov-12' 'Jul-09' 'Nov-14' 'Apr-15' 'Oct-15' 'Aug-09' 'Aug-08' 'Nov-15'\n",
      " 'Jul-08' 'Apr-09' 'Jan-14' 'Jun-08' 'Oct-14' 'Nov-08' 'Jan-08' 'Apr-14'\n",
      " 'Sep-14' 'Jun-15' 'Oct-08' 'Dec-14' 'Dec-07' 'Jan-15' 'May-08' 'Jun-14'\n",
      " 'Aug-14' 'Dec-15' 'Jul-14' 'Feb-08']\n",
      "\n",
      "last_credit_pull_d\n",
      "['Jan-16' 'Nov-13' 'May-13' 'Dec-15' 'Jan-15' 'Mar-15' 'Nov-15' 'Sep-15'\n",
      " 'Jul-15' 'May-15' 'Apr-15' 'Mar-13' 'Feb-15' 'Jun-13' 'Aug-14' 'Aug-13'\n",
      " 'Oct-14' 'Jun-15' 'Jun-14' 'May-14' 'Jun-10' 'Apr-14' 'Nov-14' 'Mar-10'\n",
      " 'Jan-14' 'Sep-14' 'Aug-15' 'Feb-12' 'Sep-12' 'Jul-14' 'Dec-14' 'Oct-15'\n",
      " 'Sep-11' 'Sep-13' 'Mar-12' 'May-12' 'Jun-11' 'Apr-12' 'Jan-12' 'Nov-11'\n",
      " 'Jul-13' 'Feb-14' 'Dec-12' 'Nov-12' 'Feb-13' 'Mar-14' 'Oct-12' 'Apr-13'\n",
      " 'Apr-11' 'Nov-10' 'Dec-13' 'Feb-09' 'Dec-09' 'Jul-12' 'Aug-12' 'Oct-13'\n",
      " 'Dec-11' 'May-11' 'Apr-10' 'Jun-12' 'Feb-11' 'Jan-11' 'Aug-11' 'Oct-10'\n",
      " nan 'Sep-10' 'Nov-07' 'Oct-11' 'Mar-11' 'Nov-09' 'Jun-07' 'Jul-11'\n",
      " 'Jul-10' 'May-07' 'Jan-13' 'Jan-09' 'Dec-10' 'Jul-09' 'Oct-09' 'Aug-10'\n",
      " 'Sep-07' 'Jun-08' 'Feb-10' 'Sep-09' 'Apr-09' 'Jan-10' 'Aug-09' 'May-09'\n",
      " 'May-10' 'Jun-09' 'Aug-08' 'Oct-08' 'Dec-08' 'Aug-07' 'Sep-08' 'Mar-09'\n",
      " 'Oct-07' 'Jul-08' 'May-08' 'Mar-08' 'Jan-08' 'Dec-07' 'Feb-08']\n",
      "\n",
      "application_type\n",
      "['INDIVIDUAL']\n",
      "\n"
     ]
    }
   ],
   "source": [
    "for col in X_train.select_dtypes(include=['object', 'bool']).columns:\n",
    "    print(col)\n",
    "    print(X_train[col].unique())\n",
    "    print()\n"
   ]
  },
  {
   "cell_type": "code",
   "execution_count": 358,
   "metadata": {},
   "outputs": [],
   "source": [
    "# Kolom/feature yang harus di cleaning\n",
    "col_need_to_clean = ['term', 'emp_length', 'issue_d', 'earliest_cr_line', 'last_pymnt_d', \n",
    "                    'next_pymnt_d', 'last_credit_pull_d']"
   ]
  },
  {
   "cell_type": "code",
   "execution_count": 359,
   "metadata": {},
   "outputs": [
    {
     "data": {
      "text/plain": [
       "array([' 60 months', ' 36 months'], dtype=object)"
      ]
     },
     "execution_count": 359,
     "metadata": {},
     "output_type": "execute_result"
    }
   ],
   "source": [
    "X_train['term'].unique()"
   ]
  },
  {
   "cell_type": "code",
   "execution_count": 360,
   "metadata": {},
   "outputs": [],
   "source": [
    "X_train['term'] = X_train['term'].astype(str)\n",
    "\n",
    "# Gunakan metode .str.replace()\n",
    "X_train['term'] = pd.to_numeric(X_train['term'].str.replace('months', ''))"
   ]
  },
  {
   "cell_type": "code",
   "execution_count": 361,
   "metadata": {},
   "outputs": [
    {
     "data": {
      "text/plain": [
       "40390     60\n",
       "24349     36\n",
       "420905    36\n",
       "30522     36\n",
       "285358    36\n",
       "          ..\n",
       "339806    60\n",
       "234203    36\n",
       "391290    36\n",
       "282147    36\n",
       "234394    36\n",
       "Name: term, Length: 373028, dtype: int64"
      ]
     },
     "execution_count": 361,
     "metadata": {},
     "output_type": "execute_result"
    }
   ],
   "source": [
    "X_train['term']"
   ]
  },
  {
   "cell_type": "code",
   "execution_count": 362,
   "metadata": {},
   "outputs": [
    {
     "data": {
      "text/plain": [
       "<bound method Series.unique of 40390       4 years\n",
       "24349     10+ years\n",
       "420905    10+ years\n",
       "30522       3 years\n",
       "285358      2 years\n",
       "            ...    \n",
       "339806          NaN\n",
       "234203     < 1 year\n",
       "391290      4 years\n",
       "282147    10+ years\n",
       "234394    10+ years\n",
       "Name: emp_length, Length: 373028, dtype: object>"
      ]
     },
     "execution_count": 362,
     "metadata": {},
     "output_type": "execute_result"
    }
   ],
   "source": [
    "X_train['emp_length'].unique"
   ]
  },
  {
   "cell_type": "code",
   "execution_count": 363,
   "metadata": {},
   "outputs": [],
   "source": [
    "# Convert the column to string type\n",
    "X_train['emp_length'] = X_train['emp_length'].astype(str)\n",
    "\n",
    "# Replace \"10+ years\" with \"10\"\n",
    "X_train['emp_length'] = X_train['emp_length'].replace('10+ years', str(10))\n",
    "# Remove \" years\"\n",
    "X_train['emp_length'] = X_train['emp_length'].str.replace(' years', '')\n",
    "# Replace \"< 1 year\" with \"0\"\n",
    "X_train['emp_length'] = X_train['emp_length'].str.replace('< 1 year', str(0))\n",
    "# Replace \" year\" with empty string\n",
    "X_train['emp_length'] = X_train['emp_length'].str.replace(' year', '')\n",
    "\n",
    "# Mengganti string kosong dengan \"0\"\n",
    "X_train['emp_length'].replace('', '0', inplace=True)\n",
    "# Mengonversi kolom 'emp_length' menjadi numerik\n",
    "X_train['emp_length'] = pd.to_numeric(X_train['emp_length'], errors='coerce')\n",
    "# Menangani nilai NaN setelah konversi\n",
    "X_train['emp_length'].fillna(value=0, inplace=True)\n",
    "# Mengonversi kolom 'emp_length' menjadi tipe data integer\n",
    "X_train['emp_length'] = X_train['emp_length'].astype(int)"
   ]
  },
  {
   "cell_type": "code",
   "execution_count": 364,
   "metadata": {},
   "outputs": [
    {
     "name": "stdout",
     "output_type": "stream",
     "text": [
      "[ 4 10  3  2  0  7  6  1  8  9  5]\n",
      "Jumlah nilai NaN: 0\n"
     ]
    }
   ],
   "source": [
    "print(X_train['emp_length'].unique())\n",
    "print(\"Jumlah nilai NaN:\", X_train['emp_length'].isna().sum())\n"
   ]
  },
  {
   "cell_type": "code",
   "execution_count": 365,
   "metadata": {},
   "outputs": [
    {
     "data": {
      "text/plain": [
       "40390      4\n",
       "24349     10\n",
       "420905    10\n",
       "30522      3\n",
       "285358     2\n",
       "          ..\n",
       "339806     0\n",
       "234203     0\n",
       "391290     4\n",
       "282147    10\n",
       "234394    10\n",
       "Name: emp_length, Length: 373028, dtype: int32"
      ]
     },
     "execution_count": 365,
     "metadata": {},
     "output_type": "execute_result"
    }
   ],
   "source": [
    "X_train['emp_length']"
   ]
  },
  {
   "cell_type": "code",
   "execution_count": 366,
   "metadata": {},
   "outputs": [],
   "source": [
    "## Cek feature date\n",
    "col_date = ['issue_d', 'earliest_cr_line', 'last_pymnt_d', 'next_pymnt_d', 'last_credit_pull_d']"
   ]
  },
  {
   "cell_type": "code",
   "execution_count": 367,
   "metadata": {},
   "outputs": [
    {
     "data": {
      "text/html": [
       "<div>\n",
       "<style scoped>\n",
       "    .dataframe tbody tr th:only-of-type {\n",
       "        vertical-align: middle;\n",
       "    }\n",
       "\n",
       "    .dataframe tbody tr th {\n",
       "        vertical-align: top;\n",
       "    }\n",
       "\n",
       "    .dataframe thead th {\n",
       "        text-align: right;\n",
       "    }\n",
       "</style>\n",
       "<table border=\"1\" class=\"dataframe\">\n",
       "  <thead>\n",
       "    <tr style=\"text-align: right;\">\n",
       "      <th></th>\n",
       "      <th>issue_d</th>\n",
       "      <th>earliest_cr_line</th>\n",
       "      <th>last_pymnt_d</th>\n",
       "      <th>next_pymnt_d</th>\n",
       "      <th>last_credit_pull_d</th>\n",
       "    </tr>\n",
       "  </thead>\n",
       "  <tbody>\n",
       "    <tr>\n",
       "      <th>40390</th>\n",
       "      <td>Jun-10</td>\n",
       "      <td>Jan-89</td>\n",
       "      <td>Jan-15</td>\n",
       "      <td>Feb-15</td>\n",
       "      <td>Jan-16</td>\n",
       "    </tr>\n",
       "    <tr>\n",
       "      <th>24349</th>\n",
       "      <td>Oct-10</td>\n",
       "      <td>Aug-90</td>\n",
       "      <td>Nov-13</td>\n",
       "      <td>NaN</td>\n",
       "      <td>Nov-13</td>\n",
       "    </tr>\n",
       "    <tr>\n",
       "      <th>420905</th>\n",
       "      <td>Mar-14</td>\n",
       "      <td>Feb-01</td>\n",
       "      <td>Jan-16</td>\n",
       "      <td>Feb-16</td>\n",
       "      <td>Jan-16</td>\n",
       "    </tr>\n",
       "    <tr>\n",
       "      <th>30522</th>\n",
       "      <td>May-10</td>\n",
       "      <td>Aug-98</td>\n",
       "      <td>May-13</td>\n",
       "      <td>NaN</td>\n",
       "      <td>May-13</td>\n",
       "    </tr>\n",
       "    <tr>\n",
       "      <th>285358</th>\n",
       "      <td>Oct-14</td>\n",
       "      <td>Sep-91</td>\n",
       "      <td>Jan-16</td>\n",
       "      <td>Feb-16</td>\n",
       "      <td>Jan-16</td>\n",
       "    </tr>\n",
       "    <tr>\n",
       "      <th>...</th>\n",
       "      <td>...</td>\n",
       "      <td>...</td>\n",
       "      <td>...</td>\n",
       "      <td>...</td>\n",
       "      <td>...</td>\n",
       "    </tr>\n",
       "    <tr>\n",
       "      <th>339806</th>\n",
       "      <td>Jul-14</td>\n",
       "      <td>Feb-05</td>\n",
       "      <td>Dec-15</td>\n",
       "      <td>Feb-16</td>\n",
       "      <td>Jan-16</td>\n",
       "    </tr>\n",
       "    <tr>\n",
       "      <th>234203</th>\n",
       "      <td>Dec-14</td>\n",
       "      <td>Jun-01</td>\n",
       "      <td>Jul-15</td>\n",
       "      <td>NaN</td>\n",
       "      <td>Jan-16</td>\n",
       "    </tr>\n",
       "    <tr>\n",
       "      <th>391290</th>\n",
       "      <td>May-14</td>\n",
       "      <td>Jun-97</td>\n",
       "      <td>Dec-15</td>\n",
       "      <td>Feb-16</td>\n",
       "      <td>Jan-16</td>\n",
       "    </tr>\n",
       "    <tr>\n",
       "      <th>282147</th>\n",
       "      <td>Oct-14</td>\n",
       "      <td>Aug-00</td>\n",
       "      <td>Apr-15</td>\n",
       "      <td>NaN</td>\n",
       "      <td>Jan-16</td>\n",
       "    </tr>\n",
       "    <tr>\n",
       "      <th>234394</th>\n",
       "      <td>Dec-14</td>\n",
       "      <td>Jun-02</td>\n",
       "      <td>Dec-15</td>\n",
       "      <td>Feb-16</td>\n",
       "      <td>Jan-16</td>\n",
       "    </tr>\n",
       "  </tbody>\n",
       "</table>\n",
       "<p>373028 rows × 5 columns</p>\n",
       "</div>"
      ],
      "text/plain": [
       "       issue_d earliest_cr_line last_pymnt_d next_pymnt_d last_credit_pull_d\n",
       "40390   Jun-10           Jan-89       Jan-15       Feb-15             Jan-16\n",
       "24349   Oct-10           Aug-90       Nov-13          NaN             Nov-13\n",
       "420905  Mar-14           Feb-01       Jan-16       Feb-16             Jan-16\n",
       "30522   May-10           Aug-98       May-13          NaN             May-13\n",
       "285358  Oct-14           Sep-91       Jan-16       Feb-16             Jan-16\n",
       "...        ...              ...          ...          ...                ...\n",
       "339806  Jul-14           Feb-05       Dec-15       Feb-16             Jan-16\n",
       "234203  Dec-14           Jun-01       Jul-15          NaN             Jan-16\n",
       "391290  May-14           Jun-97       Dec-15       Feb-16             Jan-16\n",
       "282147  Oct-14           Aug-00       Apr-15          NaN             Jan-16\n",
       "234394  Dec-14           Jun-02       Dec-15       Feb-16             Jan-16\n",
       "\n",
       "[373028 rows x 5 columns]"
      ]
     },
     "execution_count": 367,
     "metadata": {},
     "output_type": "execute_result"
    }
   ],
   "source": [
    "X_train[col_date]"
   ]
  },
  {
   "cell_type": "code",
   "execution_count": 368,
   "metadata": {},
   "outputs": [
    {
     "data": {
      "text/plain": [
       "array(['Jun-10', 'Oct-10', 'Mar-14', 'May-10', 'Oct-14', 'Feb-14',\n",
       "       'Nov-14', 'Oct-13', 'Jan-14', 'Nov-13', 'Jun-14', 'Apr-14',\n",
       "       'Nov-12', 'Aug-14', 'May-14', 'Oct-09', 'Feb-13', 'Oct-12',\n",
       "       'Apr-11', 'Sep-13', 'Mar-10', 'Jul-14', 'Sep-14', 'Mar-13',\n",
       "       'Feb-12', 'May-13', 'Aug-13', 'Apr-13', 'Jul-12', 'Jan-13',\n",
       "       'Dec-07', 'Dec-11', 'Nov-10', 'Jun-09', 'Dec-12', 'Jun-13',\n",
       "       'Aug-11', 'Nov-09', 'Jun-12', 'Jan-11', 'Feb-11', 'Dec-13',\n",
       "       'Sep-11', 'Sep-09', 'Sep-10', 'May-09', 'Apr-12', 'Sep-08',\n",
       "       'May-11', 'Dec-14', 'Aug-09', 'Jul-13', 'Aug-12', 'Mar-11',\n",
       "       'Jan-09', 'Jan-10', 'Feb-09', 'Nov-11', 'Dec-10', 'Dec-09',\n",
       "       'May-12', 'Mar-12', 'Feb-08', 'Apr-10', 'Apr-09', 'Jun-11',\n",
       "       'Jul-10', 'Aug-10', 'Sep-12', 'Feb-10', 'Jun-08', 'Jul-11',\n",
       "       'Oct-11', 'Jan-08', 'Apr-08', 'Jan-12', 'Mar-09', 'Oct-08',\n",
       "       'May-08', 'Jul-08', 'Jul-09', 'Oct-07', 'Dec-08', 'Aug-07',\n",
       "       'Mar-08', 'Nov-07', 'Nov-08', 'Jul-07', 'Sep-07', 'Jun-07',\n",
       "       'Aug-08'], dtype=object)"
      ]
     },
     "execution_count": 368,
     "metadata": {},
     "output_type": "execute_result"
    }
   ],
   "source": [
    "X_train['issue_d'].unique()"
   ]
  },
  {
   "cell_type": "code",
   "execution_count": 369,
   "metadata": {},
   "outputs": [],
   "source": [
    "X_train['issue_d'] = pd.to_datetime(X_train['issue_d'], format='%b-%y', errors='coerce')\n"
   ]
  },
  {
   "cell_type": "code",
   "execution_count": 370,
   "metadata": {},
   "outputs": [],
   "source": [
    "for col in col_date:\n",
    "    X_train[col] = pd.to_datetime(X_train[col], errors='coerce', format='%b-%y')\n"
   ]
  },
  {
   "cell_type": "code",
   "execution_count": 371,
   "metadata": {},
   "outputs": [
    {
     "data": {
      "text/plain": [
       "40390    2010-06-01\n",
       "24349    2010-10-01\n",
       "420905   2014-03-01\n",
       "30522    2010-05-01\n",
       "285358   2014-10-01\n",
       "            ...    \n",
       "339806   2014-07-01\n",
       "234203   2014-12-01\n",
       "391290   2014-05-01\n",
       "282147   2014-10-01\n",
       "234394   2014-12-01\n",
       "Name: issue_d, Length: 373028, dtype: datetime64[ns]"
      ]
     },
     "execution_count": 371,
     "metadata": {},
     "output_type": "execute_result"
    }
   ],
   "source": [
    "X_train['issue_d']"
   ]
  },
  {
   "cell_type": "code",
   "execution_count": 372,
   "metadata": {},
   "outputs": [],
   "source": [
    "#melakukan yang sama untuk X_test\n",
    "X_test['term'] = X_test['term'].astype(str)\n",
    "\n",
    "# Gunakan metode .str.replace()\n",
    "X_test['term'] = pd.to_numeric(X_test['term'].str.replace('months', ''))"
   ]
  },
  {
   "cell_type": "code",
   "execution_count": 373,
   "metadata": {},
   "outputs": [],
   "source": [
    "\n",
    "# Convert the column to string type\n",
    "X_test['emp_length'] = X_test['emp_length'].astype(str)\n",
    "\n",
    "# Replace \"10+ years\" with \"10\"\n",
    "X_test['emp_length'] = X_test['emp_length'].replace('10+ years', str(10))\n",
    "# Remove \" years\"\n",
    "X_test['emp_length'] = X_test['emp_length'].str.replace(' years', '')\n",
    "# Replace \"< 1 year\" with \"0\"\n",
    "X_test['emp_length'] = X_test['emp_length'].str.replace('< 1 year', str(0))\n",
    "# Replace \" year\" with empty string\n",
    "X_test['emp_length'] = X_test['emp_length'].str.replace(' year', '')\n",
    "\n",
    "# Mengganti string kosong dengan \"0\"\n",
    "X_test['emp_length'].replace('', '0', inplace=True)\n",
    "# Mengonversi kolom 'emp_length' menjadi numerik\n",
    "X_test['emp_length'] = pd.to_numeric(X_test['emp_length'], errors='coerce')\n",
    "# Menangani nilai NaN setelah konversi\n",
    "X_test['emp_length'].fillna(value=0, inplace=True)\n",
    "# Mengonversi kolom 'emp_length' menjadi tipe data integer\n",
    "X_test['emp_length'] = X_test['emp_length'].astype(int)"
   ]
  },
  {
   "cell_type": "code",
   "execution_count": 374,
   "metadata": {},
   "outputs": [],
   "source": [
    "X_test['issue_d'] = pd.to_datetime(X_test['issue_d'], format='%b-%y', errors='coerce')\n",
    "for col in col_date:\n",
    "    X_test[col] = pd.to_datetime(X_test[col], errors='coerce', format='%b-%y')\n"
   ]
  },
  {
   "cell_type": "code",
   "execution_count": 375,
   "metadata": {},
   "outputs": [
    {
     "data": {
      "text/plain": [
       "45967    2013-12-01\n",
       "85036    2013-10-01\n",
       "96879    2013-09-01\n",
       "297850   2014-10-01\n",
       "66790    2013-11-01\n",
       "            ...    \n",
       "1868     2011-11-01\n",
       "438110   2014-02-01\n",
       "66400    2013-11-01\n",
       "167062   2013-02-01\n",
       "445166   2014-02-01\n",
       "Name: issue_d, Length: 93257, dtype: datetime64[ns]"
      ]
     },
     "execution_count": 375,
     "metadata": {},
     "output_type": "execute_result"
    }
   ],
   "source": [
    "X_test['issue_d']"
   ]
  },
  {
   "cell_type": "code",
   "execution_count": 376,
   "metadata": {},
   "outputs": [
    {
     "data": {
      "text/html": [
       "<div>\n",
       "<style scoped>\n",
       "    .dataframe tbody tr th:only-of-type {\n",
       "        vertical-align: middle;\n",
       "    }\n",
       "\n",
       "    .dataframe tbody tr th {\n",
       "        vertical-align: top;\n",
       "    }\n",
       "\n",
       "    .dataframe thead th {\n",
       "        text-align: right;\n",
       "    }\n",
       "</style>\n",
       "<table border=\"1\" class=\"dataframe\">\n",
       "  <thead>\n",
       "    <tr style=\"text-align: right;\">\n",
       "      <th></th>\n",
       "      <th>issue_d</th>\n",
       "      <th>earliest_cr_line</th>\n",
       "      <th>last_pymnt_d</th>\n",
       "      <th>next_pymnt_d</th>\n",
       "      <th>last_credit_pull_d</th>\n",
       "    </tr>\n",
       "  </thead>\n",
       "  <tbody>\n",
       "    <tr>\n",
       "      <th>40390</th>\n",
       "      <td>2010-06-01</td>\n",
       "      <td>1989-01-01</td>\n",
       "      <td>2015-01-01</td>\n",
       "      <td>2015-02-01</td>\n",
       "      <td>2016-01-01</td>\n",
       "    </tr>\n",
       "    <tr>\n",
       "      <th>24349</th>\n",
       "      <td>2010-10-01</td>\n",
       "      <td>1990-08-01</td>\n",
       "      <td>2013-11-01</td>\n",
       "      <td>NaT</td>\n",
       "      <td>2013-11-01</td>\n",
       "    </tr>\n",
       "    <tr>\n",
       "      <th>420905</th>\n",
       "      <td>2014-03-01</td>\n",
       "      <td>2001-02-01</td>\n",
       "      <td>2016-01-01</td>\n",
       "      <td>2016-02-01</td>\n",
       "      <td>2016-01-01</td>\n",
       "    </tr>\n",
       "    <tr>\n",
       "      <th>30522</th>\n",
       "      <td>2010-05-01</td>\n",
       "      <td>1998-08-01</td>\n",
       "      <td>2013-05-01</td>\n",
       "      <td>NaT</td>\n",
       "      <td>2013-05-01</td>\n",
       "    </tr>\n",
       "    <tr>\n",
       "      <th>285358</th>\n",
       "      <td>2014-10-01</td>\n",
       "      <td>1991-09-01</td>\n",
       "      <td>2016-01-01</td>\n",
       "      <td>2016-02-01</td>\n",
       "      <td>2016-01-01</td>\n",
       "    </tr>\n",
       "    <tr>\n",
       "      <th>...</th>\n",
       "      <td>...</td>\n",
       "      <td>...</td>\n",
       "      <td>...</td>\n",
       "      <td>...</td>\n",
       "      <td>...</td>\n",
       "    </tr>\n",
       "    <tr>\n",
       "      <th>339806</th>\n",
       "      <td>2014-07-01</td>\n",
       "      <td>2005-02-01</td>\n",
       "      <td>2015-12-01</td>\n",
       "      <td>2016-02-01</td>\n",
       "      <td>2016-01-01</td>\n",
       "    </tr>\n",
       "    <tr>\n",
       "      <th>234203</th>\n",
       "      <td>2014-12-01</td>\n",
       "      <td>2001-06-01</td>\n",
       "      <td>2015-07-01</td>\n",
       "      <td>NaT</td>\n",
       "      <td>2016-01-01</td>\n",
       "    </tr>\n",
       "    <tr>\n",
       "      <th>391290</th>\n",
       "      <td>2014-05-01</td>\n",
       "      <td>1997-06-01</td>\n",
       "      <td>2015-12-01</td>\n",
       "      <td>2016-02-01</td>\n",
       "      <td>2016-01-01</td>\n",
       "    </tr>\n",
       "    <tr>\n",
       "      <th>282147</th>\n",
       "      <td>2014-10-01</td>\n",
       "      <td>2000-08-01</td>\n",
       "      <td>2015-04-01</td>\n",
       "      <td>NaT</td>\n",
       "      <td>2016-01-01</td>\n",
       "    </tr>\n",
       "    <tr>\n",
       "      <th>234394</th>\n",
       "      <td>2014-12-01</td>\n",
       "      <td>2002-06-01</td>\n",
       "      <td>2015-12-01</td>\n",
       "      <td>2016-02-01</td>\n",
       "      <td>2016-01-01</td>\n",
       "    </tr>\n",
       "  </tbody>\n",
       "</table>\n",
       "<p>373028 rows × 5 columns</p>\n",
       "</div>"
      ],
      "text/plain": [
       "          issue_d earliest_cr_line last_pymnt_d next_pymnt_d  \\\n",
       "40390  2010-06-01       1989-01-01   2015-01-01   2015-02-01   \n",
       "24349  2010-10-01       1990-08-01   2013-11-01          NaT   \n",
       "420905 2014-03-01       2001-02-01   2016-01-01   2016-02-01   \n",
       "30522  2010-05-01       1998-08-01   2013-05-01          NaT   \n",
       "285358 2014-10-01       1991-09-01   2016-01-01   2016-02-01   \n",
       "...           ...              ...          ...          ...   \n",
       "339806 2014-07-01       2005-02-01   2015-12-01   2016-02-01   \n",
       "234203 2014-12-01       2001-06-01   2015-07-01          NaT   \n",
       "391290 2014-05-01       1997-06-01   2015-12-01   2016-02-01   \n",
       "282147 2014-10-01       2000-08-01   2015-04-01          NaT   \n",
       "234394 2014-12-01       2002-06-01   2015-12-01   2016-02-01   \n",
       "\n",
       "       last_credit_pull_d  \n",
       "40390          2016-01-01  \n",
       "24349          2013-11-01  \n",
       "420905         2016-01-01  \n",
       "30522          2013-05-01  \n",
       "285358         2016-01-01  \n",
       "...                   ...  \n",
       "339806         2016-01-01  \n",
       "234203         2016-01-01  \n",
       "391290         2016-01-01  \n",
       "282147         2016-01-01  \n",
       "234394         2016-01-01  \n",
       "\n",
       "[373028 rows x 5 columns]"
      ]
     },
     "execution_count": 376,
     "metadata": {},
     "output_type": "execute_result"
    }
   ],
   "source": [
    "X_train[col_date]"
   ]
  },
  {
   "cell_type": "code",
   "execution_count": 377,
   "metadata": {},
   "outputs": [
    {
     "data": {
      "text/html": [
       "<div>\n",
       "<style scoped>\n",
       "    .dataframe tbody tr th:only-of-type {\n",
       "        vertical-align: middle;\n",
       "    }\n",
       "\n",
       "    .dataframe tbody tr th {\n",
       "        vertical-align: top;\n",
       "    }\n",
       "\n",
       "    .dataframe thead th {\n",
       "        text-align: right;\n",
       "    }\n",
       "</style>\n",
       "<table border=\"1\" class=\"dataframe\">\n",
       "  <thead>\n",
       "    <tr style=\"text-align: right;\">\n",
       "      <th></th>\n",
       "      <th>issue_d</th>\n",
       "      <th>earliest_cr_line</th>\n",
       "      <th>last_pymnt_d</th>\n",
       "      <th>next_pymnt_d</th>\n",
       "      <th>last_credit_pull_d</th>\n",
       "    </tr>\n",
       "  </thead>\n",
       "  <tbody>\n",
       "    <tr>\n",
       "      <th>45967</th>\n",
       "      <td>2013-12-01</td>\n",
       "      <td>1999-10-01</td>\n",
       "      <td>2016-01-01</td>\n",
       "      <td>NaT</td>\n",
       "      <td>2016-01-01</td>\n",
       "    </tr>\n",
       "    <tr>\n",
       "      <th>85036</th>\n",
       "      <td>2013-10-01</td>\n",
       "      <td>2000-04-01</td>\n",
       "      <td>2015-06-01</td>\n",
       "      <td>NaT</td>\n",
       "      <td>2015-12-01</td>\n",
       "    </tr>\n",
       "    <tr>\n",
       "      <th>96879</th>\n",
       "      <td>2013-09-01</td>\n",
       "      <td>2002-07-01</td>\n",
       "      <td>2016-01-01</td>\n",
       "      <td>2016-02-01</td>\n",
       "      <td>2016-01-01</td>\n",
       "    </tr>\n",
       "    <tr>\n",
       "      <th>297850</th>\n",
       "      <td>2014-10-01</td>\n",
       "      <td>2000-05-01</td>\n",
       "      <td>2014-11-01</td>\n",
       "      <td>NaT</td>\n",
       "      <td>2014-10-01</td>\n",
       "    </tr>\n",
       "    <tr>\n",
       "      <th>66790</th>\n",
       "      <td>2013-11-01</td>\n",
       "      <td>1997-01-01</td>\n",
       "      <td>2016-01-01</td>\n",
       "      <td>2016-02-01</td>\n",
       "      <td>2016-01-01</td>\n",
       "    </tr>\n",
       "    <tr>\n",
       "      <th>...</th>\n",
       "      <td>...</td>\n",
       "      <td>...</td>\n",
       "      <td>...</td>\n",
       "      <td>...</td>\n",
       "      <td>...</td>\n",
       "    </tr>\n",
       "    <tr>\n",
       "      <th>1868</th>\n",
       "      <td>2011-11-01</td>\n",
       "      <td>1999-11-01</td>\n",
       "      <td>2014-06-01</td>\n",
       "      <td>NaT</td>\n",
       "      <td>2016-01-01</td>\n",
       "    </tr>\n",
       "    <tr>\n",
       "      <th>438110</th>\n",
       "      <td>2014-02-01</td>\n",
       "      <td>2003-03-01</td>\n",
       "      <td>2015-12-01</td>\n",
       "      <td>2016-01-01</td>\n",
       "      <td>2016-01-01</td>\n",
       "    </tr>\n",
       "    <tr>\n",
       "      <th>66400</th>\n",
       "      <td>2013-11-01</td>\n",
       "      <td>1992-03-01</td>\n",
       "      <td>2016-01-01</td>\n",
       "      <td>2016-02-01</td>\n",
       "      <td>2016-01-01</td>\n",
       "    </tr>\n",
       "    <tr>\n",
       "      <th>167062</th>\n",
       "      <td>2013-02-01</td>\n",
       "      <td>1985-04-01</td>\n",
       "      <td>2015-02-01</td>\n",
       "      <td>NaT</td>\n",
       "      <td>2016-01-01</td>\n",
       "    </tr>\n",
       "    <tr>\n",
       "      <th>445166</th>\n",
       "      <td>2014-02-01</td>\n",
       "      <td>1986-06-01</td>\n",
       "      <td>2015-12-01</td>\n",
       "      <td>2016-02-01</td>\n",
       "      <td>2016-01-01</td>\n",
       "    </tr>\n",
       "  </tbody>\n",
       "</table>\n",
       "<p>93257 rows × 5 columns</p>\n",
       "</div>"
      ],
      "text/plain": [
       "          issue_d earliest_cr_line last_pymnt_d next_pymnt_d  \\\n",
       "45967  2013-12-01       1999-10-01   2016-01-01          NaT   \n",
       "85036  2013-10-01       2000-04-01   2015-06-01          NaT   \n",
       "96879  2013-09-01       2002-07-01   2016-01-01   2016-02-01   \n",
       "297850 2014-10-01       2000-05-01   2014-11-01          NaT   \n",
       "66790  2013-11-01       1997-01-01   2016-01-01   2016-02-01   \n",
       "...           ...              ...          ...          ...   \n",
       "1868   2011-11-01       1999-11-01   2014-06-01          NaT   \n",
       "438110 2014-02-01       2003-03-01   2015-12-01   2016-01-01   \n",
       "66400  2013-11-01       1992-03-01   2016-01-01   2016-02-01   \n",
       "167062 2013-02-01       1985-04-01   2015-02-01          NaT   \n",
       "445166 2014-02-01       1986-06-01   2015-12-01   2016-02-01   \n",
       "\n",
       "       last_credit_pull_d  \n",
       "45967          2016-01-01  \n",
       "85036          2015-12-01  \n",
       "96879          2016-01-01  \n",
       "297850         2014-10-01  \n",
       "66790          2016-01-01  \n",
       "...                   ...  \n",
       "1868           2016-01-01  \n",
       "438110         2016-01-01  \n",
       "66400          2016-01-01  \n",
       "167062         2016-01-01  \n",
       "445166         2016-01-01  \n",
       "\n",
       "[93257 rows x 5 columns]"
      ]
     },
     "execution_count": 377,
     "metadata": {},
     "output_type": "execute_result"
    }
   ],
   "source": [
    "X_test[col_date]"
   ]
  },
  {
   "cell_type": "code",
   "execution_count": 378,
   "metadata": {},
   "outputs": [
    {
     "name": "stdout",
     "output_type": "stream",
     "text": [
      "<class 'pandas.core.frame.DataFrame'>\n",
      "Index: 93257 entries, 45967 to 445166\n",
      "Data columns (total 7 columns):\n",
      " #   Column              Non-Null Count  Dtype         \n",
      "---  ------              --------------  -----         \n",
      " 0   term                93257 non-null  int64         \n",
      " 1   emp_length          93257 non-null  int32         \n",
      " 2   issue_d             93257 non-null  datetime64[ns]\n",
      " 3   earliest_cr_line    93252 non-null  datetime64[ns]\n",
      " 4   last_pymnt_d        93180 non-null  datetime64[ns]\n",
      " 5   next_pymnt_d        47713 non-null  datetime64[ns]\n",
      " 6   last_credit_pull_d  93245 non-null  datetime64[ns]\n",
      "dtypes: datetime64[ns](5), int32(1), int64(1)\n",
      "memory usage: 5.3 MB\n"
     ]
    }
   ],
   "source": [
    "# Check apakah berhasil di cleaning\n",
    "X_test[col_need_to_clean].info()"
   ]
  },
  {
   "cell_type": "markdown",
   "metadata": {},
   "source": [
    "## Feature Engineering"
   ]
  },
  {
   "cell_type": "code",
   "execution_count": 379,
   "metadata": {},
   "outputs": [
    {
     "data": {
      "text/plain": [
       "((373028, 54), (373028,), (93257, 54), (93257,))"
      ]
     },
     "execution_count": 379,
     "metadata": {},
     "output_type": "execute_result"
    }
   ],
   "source": [
    "X_train.shape, y_train.shape, X_test.shape, y_test.shape"
   ]
  },
  {
   "cell_type": "code",
   "execution_count": 380,
   "metadata": {},
   "outputs": [
    {
     "data": {
      "text/plain": [
       "['term',\n",
       " 'emp_length',\n",
       " 'issue_d',\n",
       " 'earliest_cr_line',\n",
       " 'last_pymnt_d',\n",
       " 'next_pymnt_d',\n",
       " 'last_credit_pull_d']"
      ]
     },
     "execution_count": 380,
     "metadata": {},
     "output_type": "execute_result"
    }
   ],
   "source": [
    "# Kolom yang akan di feature engineering\n",
    "col_need_to_clean"
   ]
  },
  {
   "cell_type": "code",
   "execution_count": 381,
   "metadata": {},
   "outputs": [
    {
     "data": {
      "text/html": [
       "<div>\n",
       "<style scoped>\n",
       "    .dataframe tbody tr th:only-of-type {\n",
       "        vertical-align: middle;\n",
       "    }\n",
       "\n",
       "    .dataframe tbody tr th {\n",
       "        vertical-align: top;\n",
       "    }\n",
       "\n",
       "    .dataframe thead th {\n",
       "        text-align: right;\n",
       "    }\n",
       "</style>\n",
       "<table border=\"1\" class=\"dataframe\">\n",
       "  <thead>\n",
       "    <tr style=\"text-align: right;\">\n",
       "      <th></th>\n",
       "      <th>term</th>\n",
       "      <th>emp_length</th>\n",
       "      <th>issue_d</th>\n",
       "      <th>earliest_cr_line</th>\n",
       "      <th>last_pymnt_d</th>\n",
       "      <th>next_pymnt_d</th>\n",
       "      <th>last_credit_pull_d</th>\n",
       "    </tr>\n",
       "  </thead>\n",
       "  <tbody>\n",
       "    <tr>\n",
       "      <th>40390</th>\n",
       "      <td>60</td>\n",
       "      <td>4</td>\n",
       "      <td>2010-06-01</td>\n",
       "      <td>1989-01-01</td>\n",
       "      <td>2015-01-01</td>\n",
       "      <td>2015-02-01</td>\n",
       "      <td>2016-01-01</td>\n",
       "    </tr>\n",
       "    <tr>\n",
       "      <th>24349</th>\n",
       "      <td>36</td>\n",
       "      <td>10</td>\n",
       "      <td>2010-10-01</td>\n",
       "      <td>1990-08-01</td>\n",
       "      <td>2013-11-01</td>\n",
       "      <td>NaT</td>\n",
       "      <td>2013-11-01</td>\n",
       "    </tr>\n",
       "    <tr>\n",
       "      <th>420905</th>\n",
       "      <td>36</td>\n",
       "      <td>10</td>\n",
       "      <td>2014-03-01</td>\n",
       "      <td>2001-02-01</td>\n",
       "      <td>2016-01-01</td>\n",
       "      <td>2016-02-01</td>\n",
       "      <td>2016-01-01</td>\n",
       "    </tr>\n",
       "    <tr>\n",
       "      <th>30522</th>\n",
       "      <td>36</td>\n",
       "      <td>3</td>\n",
       "      <td>2010-05-01</td>\n",
       "      <td>1998-08-01</td>\n",
       "      <td>2013-05-01</td>\n",
       "      <td>NaT</td>\n",
       "      <td>2013-05-01</td>\n",
       "    </tr>\n",
       "    <tr>\n",
       "      <th>285358</th>\n",
       "      <td>36</td>\n",
       "      <td>2</td>\n",
       "      <td>2014-10-01</td>\n",
       "      <td>1991-09-01</td>\n",
       "      <td>2016-01-01</td>\n",
       "      <td>2016-02-01</td>\n",
       "      <td>2016-01-01</td>\n",
       "    </tr>\n",
       "    <tr>\n",
       "      <th>...</th>\n",
       "      <td>...</td>\n",
       "      <td>...</td>\n",
       "      <td>...</td>\n",
       "      <td>...</td>\n",
       "      <td>...</td>\n",
       "      <td>...</td>\n",
       "      <td>...</td>\n",
       "    </tr>\n",
       "    <tr>\n",
       "      <th>339806</th>\n",
       "      <td>60</td>\n",
       "      <td>0</td>\n",
       "      <td>2014-07-01</td>\n",
       "      <td>2005-02-01</td>\n",
       "      <td>2015-12-01</td>\n",
       "      <td>2016-02-01</td>\n",
       "      <td>2016-01-01</td>\n",
       "    </tr>\n",
       "    <tr>\n",
       "      <th>234203</th>\n",
       "      <td>36</td>\n",
       "      <td>0</td>\n",
       "      <td>2014-12-01</td>\n",
       "      <td>2001-06-01</td>\n",
       "      <td>2015-07-01</td>\n",
       "      <td>NaT</td>\n",
       "      <td>2016-01-01</td>\n",
       "    </tr>\n",
       "    <tr>\n",
       "      <th>391290</th>\n",
       "      <td>36</td>\n",
       "      <td>4</td>\n",
       "      <td>2014-05-01</td>\n",
       "      <td>1997-06-01</td>\n",
       "      <td>2015-12-01</td>\n",
       "      <td>2016-02-01</td>\n",
       "      <td>2016-01-01</td>\n",
       "    </tr>\n",
       "    <tr>\n",
       "      <th>282147</th>\n",
       "      <td>36</td>\n",
       "      <td>10</td>\n",
       "      <td>2014-10-01</td>\n",
       "      <td>2000-08-01</td>\n",
       "      <td>2015-04-01</td>\n",
       "      <td>NaT</td>\n",
       "      <td>2016-01-01</td>\n",
       "    </tr>\n",
       "    <tr>\n",
       "      <th>234394</th>\n",
       "      <td>36</td>\n",
       "      <td>10</td>\n",
       "      <td>2014-12-01</td>\n",
       "      <td>2002-06-01</td>\n",
       "      <td>2015-12-01</td>\n",
       "      <td>2016-02-01</td>\n",
       "      <td>2016-01-01</td>\n",
       "    </tr>\n",
       "  </tbody>\n",
       "</table>\n",
       "<p>373028 rows × 7 columns</p>\n",
       "</div>"
      ],
      "text/plain": [
       "        term  emp_length    issue_d earliest_cr_line last_pymnt_d  \\\n",
       "40390     60           4 2010-06-01       1989-01-01   2015-01-01   \n",
       "24349     36          10 2010-10-01       1990-08-01   2013-11-01   \n",
       "420905    36          10 2014-03-01       2001-02-01   2016-01-01   \n",
       "30522     36           3 2010-05-01       1998-08-01   2013-05-01   \n",
       "285358    36           2 2014-10-01       1991-09-01   2016-01-01   \n",
       "...      ...         ...        ...              ...          ...   \n",
       "339806    60           0 2014-07-01       2005-02-01   2015-12-01   \n",
       "234203    36           0 2014-12-01       2001-06-01   2015-07-01   \n",
       "391290    36           4 2014-05-01       1997-06-01   2015-12-01   \n",
       "282147    36          10 2014-10-01       2000-08-01   2015-04-01   \n",
       "234394    36          10 2014-12-01       2002-06-01   2015-12-01   \n",
       "\n",
       "       next_pymnt_d last_credit_pull_d  \n",
       "40390    2015-02-01         2016-01-01  \n",
       "24349           NaT         2013-11-01  \n",
       "420905   2016-02-01         2016-01-01  \n",
       "30522           NaT         2013-05-01  \n",
       "285358   2016-02-01         2016-01-01  \n",
       "...             ...                ...  \n",
       "339806   2016-02-01         2016-01-01  \n",
       "234203          NaT         2016-01-01  \n",
       "391290   2016-02-01         2016-01-01  \n",
       "282147          NaT         2016-01-01  \n",
       "234394   2016-02-01         2016-01-01  \n",
       "\n",
       "[373028 rows x 7 columns]"
      ]
     },
     "execution_count": 381,
     "metadata": {},
     "output_type": "execute_result"
    }
   ],
   "source": [
    "X_train[col_need_to_clean]"
   ]
  },
  {
   "cell_type": "code",
   "execution_count": 382,
   "metadata": {},
   "outputs": [],
   "source": [
    "X_train = X_train[col_need_to_clean]\n",
    "X_test = X_test[col_need_to_clean]"
   ]
  },
  {
   "cell_type": "code",
   "execution_count": 383,
   "metadata": {},
   "outputs": [
    {
     "name": "stdout",
     "output_type": "stream",
     "text": [
      "True\n"
     ]
    }
   ],
   "source": [
    "print('next_pymnt_d' in X_train.columns)"
   ]
  },
  {
   "cell_type": "code",
   "execution_count": 384,
   "metadata": {},
   "outputs": [
    {
     "name": "stdout",
     "output_type": "stream",
     "text": [
      "Index(['term', 'emp_length', 'issue_d', 'earliest_cr_line', 'last_pymnt_d',\n",
      "       'next_pymnt_d', 'last_credit_pull_d'],\n",
      "      dtype='object')\n"
     ]
    }
   ],
   "source": [
    "print(X_test.columns)"
   ]
  },
  {
   "cell_type": "code",
   "execution_count": 385,
   "metadata": {},
   "outputs": [
    {
     "name": "stdout",
     "output_type": "stream",
     "text": [
      "Index(['term', 'emp_length', 'issue_d', 'earliest_cr_line', 'last_pymnt_d',\n",
      "       'next_pymnt_d', 'last_credit_pull_d'],\n",
      "      dtype='object')\n"
     ]
    }
   ],
   "source": [
    "print(X_train.columns)"
   ]
  },
  {
   "cell_type": "code",
   "execution_count": 386,
   "metadata": {},
   "outputs": [],
   "source": [
    "X_train_selected = X_train[col_need_to_clean]"
   ]
  },
  {
   "cell_type": "code",
   "execution_count": 387,
   "metadata": {},
   "outputs": [
    {
     "data": {
      "text/html": [
       "<div>\n",
       "<style scoped>\n",
       "    .dataframe tbody tr th:only-of-type {\n",
       "        vertical-align: middle;\n",
       "    }\n",
       "\n",
       "    .dataframe tbody tr th {\n",
       "        vertical-align: top;\n",
       "    }\n",
       "\n",
       "    .dataframe thead th {\n",
       "        text-align: right;\n",
       "    }\n",
       "</style>\n",
       "<table border=\"1\" class=\"dataframe\">\n",
       "  <thead>\n",
       "    <tr style=\"text-align: right;\">\n",
       "      <th></th>\n",
       "      <th>term</th>\n",
       "      <th>emp_length</th>\n",
       "      <th>issue_d</th>\n",
       "      <th>earliest_cr_line</th>\n",
       "      <th>last_pymnt_d</th>\n",
       "      <th>next_pymnt_d</th>\n",
       "      <th>last_credit_pull_d</th>\n",
       "    </tr>\n",
       "  </thead>\n",
       "  <tbody>\n",
       "    <tr>\n",
       "      <th>40390</th>\n",
       "      <td>60</td>\n",
       "      <td>4</td>\n",
       "      <td>2010-06-01</td>\n",
       "      <td>1989-01-01</td>\n",
       "      <td>2015-01-01</td>\n",
       "      <td>2015-02-01</td>\n",
       "      <td>2016-01-01</td>\n",
       "    </tr>\n",
       "    <tr>\n",
       "      <th>24349</th>\n",
       "      <td>36</td>\n",
       "      <td>10</td>\n",
       "      <td>2010-10-01</td>\n",
       "      <td>1990-08-01</td>\n",
       "      <td>2013-11-01</td>\n",
       "      <td>NaT</td>\n",
       "      <td>2013-11-01</td>\n",
       "    </tr>\n",
       "    <tr>\n",
       "      <th>420905</th>\n",
       "      <td>36</td>\n",
       "      <td>10</td>\n",
       "      <td>2014-03-01</td>\n",
       "      <td>2001-02-01</td>\n",
       "      <td>2016-01-01</td>\n",
       "      <td>2016-02-01</td>\n",
       "      <td>2016-01-01</td>\n",
       "    </tr>\n",
       "    <tr>\n",
       "      <th>30522</th>\n",
       "      <td>36</td>\n",
       "      <td>3</td>\n",
       "      <td>2010-05-01</td>\n",
       "      <td>1998-08-01</td>\n",
       "      <td>2013-05-01</td>\n",
       "      <td>NaT</td>\n",
       "      <td>2013-05-01</td>\n",
       "    </tr>\n",
       "    <tr>\n",
       "      <th>285358</th>\n",
       "      <td>36</td>\n",
       "      <td>2</td>\n",
       "      <td>2014-10-01</td>\n",
       "      <td>1991-09-01</td>\n",
       "      <td>2016-01-01</td>\n",
       "      <td>2016-02-01</td>\n",
       "      <td>2016-01-01</td>\n",
       "    </tr>\n",
       "    <tr>\n",
       "      <th>...</th>\n",
       "      <td>...</td>\n",
       "      <td>...</td>\n",
       "      <td>...</td>\n",
       "      <td>...</td>\n",
       "      <td>...</td>\n",
       "      <td>...</td>\n",
       "      <td>...</td>\n",
       "    </tr>\n",
       "    <tr>\n",
       "      <th>339806</th>\n",
       "      <td>60</td>\n",
       "      <td>0</td>\n",
       "      <td>2014-07-01</td>\n",
       "      <td>2005-02-01</td>\n",
       "      <td>2015-12-01</td>\n",
       "      <td>2016-02-01</td>\n",
       "      <td>2016-01-01</td>\n",
       "    </tr>\n",
       "    <tr>\n",
       "      <th>234203</th>\n",
       "      <td>36</td>\n",
       "      <td>0</td>\n",
       "      <td>2014-12-01</td>\n",
       "      <td>2001-06-01</td>\n",
       "      <td>2015-07-01</td>\n",
       "      <td>NaT</td>\n",
       "      <td>2016-01-01</td>\n",
       "    </tr>\n",
       "    <tr>\n",
       "      <th>391290</th>\n",
       "      <td>36</td>\n",
       "      <td>4</td>\n",
       "      <td>2014-05-01</td>\n",
       "      <td>1997-06-01</td>\n",
       "      <td>2015-12-01</td>\n",
       "      <td>2016-02-01</td>\n",
       "      <td>2016-01-01</td>\n",
       "    </tr>\n",
       "    <tr>\n",
       "      <th>282147</th>\n",
       "      <td>36</td>\n",
       "      <td>10</td>\n",
       "      <td>2014-10-01</td>\n",
       "      <td>2000-08-01</td>\n",
       "      <td>2015-04-01</td>\n",
       "      <td>NaT</td>\n",
       "      <td>2016-01-01</td>\n",
       "    </tr>\n",
       "    <tr>\n",
       "      <th>234394</th>\n",
       "      <td>36</td>\n",
       "      <td>10</td>\n",
       "      <td>2014-12-01</td>\n",
       "      <td>2002-06-01</td>\n",
       "      <td>2015-12-01</td>\n",
       "      <td>2016-02-01</td>\n",
       "      <td>2016-01-01</td>\n",
       "    </tr>\n",
       "  </tbody>\n",
       "</table>\n",
       "<p>373028 rows × 7 columns</p>\n",
       "</div>"
      ],
      "text/plain": [
       "        term  emp_length    issue_d earliest_cr_line last_pymnt_d  \\\n",
       "40390     60           4 2010-06-01       1989-01-01   2015-01-01   \n",
       "24349     36          10 2010-10-01       1990-08-01   2013-11-01   \n",
       "420905    36          10 2014-03-01       2001-02-01   2016-01-01   \n",
       "30522     36           3 2010-05-01       1998-08-01   2013-05-01   \n",
       "285358    36           2 2014-10-01       1991-09-01   2016-01-01   \n",
       "...      ...         ...        ...              ...          ...   \n",
       "339806    60           0 2014-07-01       2005-02-01   2015-12-01   \n",
       "234203    36           0 2014-12-01       2001-06-01   2015-07-01   \n",
       "391290    36           4 2014-05-01       1997-06-01   2015-12-01   \n",
       "282147    36          10 2014-10-01       2000-08-01   2015-04-01   \n",
       "234394    36          10 2014-12-01       2002-06-01   2015-12-01   \n",
       "\n",
       "       next_pymnt_d last_credit_pull_d  \n",
       "40390    2015-02-01         2016-01-01  \n",
       "24349           NaT         2013-11-01  \n",
       "420905   2016-02-01         2016-01-01  \n",
       "30522           NaT         2013-05-01  \n",
       "285358   2016-02-01         2016-01-01  \n",
       "...             ...                ...  \n",
       "339806   2016-02-01         2016-01-01  \n",
       "234203          NaT         2016-01-01  \n",
       "391290   2016-02-01         2016-01-01  \n",
       "282147          NaT         2016-01-01  \n",
       "234394   2016-02-01         2016-01-01  \n",
       "\n",
       "[373028 rows x 7 columns]"
      ]
     },
     "execution_count": 387,
     "metadata": {},
     "output_type": "execute_result"
    }
   ],
   "source": [
    "X_train[col_need_to_clean]\n"
   ]
  },
  {
   "cell_type": "code",
   "execution_count": 388,
   "metadata": {},
   "outputs": [],
   "source": [
    "# tidak dibutuhkan untuk feature engineering\n",
    "del X_train['next_pymnt_d']\n",
    "del X_test['next_pymnt_d']"
   ]
  },
  {
   "cell_type": "code",
   "execution_count": 389,
   "metadata": {},
   "outputs": [
    {
     "data": {
      "text/plain": [
       "((373028, 6), (93257, 6))"
      ]
     },
     "execution_count": 389,
     "metadata": {},
     "output_type": "execute_result"
    }
   ],
   "source": [
    "X_train.shape, X_test.shape"
   ]
  },
  {
   "cell_type": "code",
   "execution_count": 390,
   "metadata": {},
   "outputs": [
    {
     "data": {
      "text/plain": [
       "((373028, 6), (373028,), (93257, 6), (93257,))"
      ]
     },
     "execution_count": 390,
     "metadata": {},
     "output_type": "execute_result"
    }
   ],
   "source": [
    "X_train.shape, y_train.shape, X_test.shape, y_test.shape"
   ]
  },
  {
   "cell_type": "code",
   "execution_count": 391,
   "metadata": {},
   "outputs": [
    {
     "data": {
      "text/plain": [
       "'2024-01-01'"
      ]
     },
     "execution_count": 391,
     "metadata": {},
     "output_type": "execute_result"
    }
   ],
   "source": [
    "from datetime import date\n",
    "\n",
    "date.today().strftime('%Y-%m-%d')"
   ]
  },
  {
   "cell_type": "code",
   "execution_count": 392,
   "metadata": {},
   "outputs": [],
   "source": [
    "from datetime import date\n",
    "from dateutil.relativedelta import relativedelta\n",
    "import pandas as pd\n",
    "\n",
    "def date_columns(df, column):\n",
    "    today_date = pd.to_datetime(date.today().strftime('%Y-%m-%d'))\n",
    "    df[column] = pd.to_datetime(df[column], format=\"%b-%y\")\n",
    "    \n",
    "    # Calculate the number of months\n",
    "    df['mths_since_' + column] = (today_date - df[column]).dt.days // 30\n",
    "    \n",
    "    # Drop the original date column\n",
    "    df.drop(columns=[column], inplace=True)\n",
    "\n",
    "# Example usage\n",
    "date_columns(X_train, 'earliest_cr_line')\n",
    "date_columns(X_train, 'issue_d')\n",
    "date_columns(X_train, 'last_pymnt_d')\n",
    "date_columns(X_train, 'last_credit_pull_d')\n"
   ]
  },
  {
   "cell_type": "code",
   "execution_count": 393,
   "metadata": {},
   "outputs": [],
   "source": [
    "# apply to X_test\n",
    "date_columns(X_test, 'earliest_cr_line')\n",
    "date_columns(X_test, 'issue_d')\n",
    "date_columns(X_test, 'last_pymnt_d')\n",
    "date_columns(X_test, 'last_credit_pull_d')"
   ]
  },
  {
   "cell_type": "code",
   "execution_count": 394,
   "metadata": {},
   "outputs": [
    {
     "data": {
      "text/html": [
       "<div>\n",
       "<style scoped>\n",
       "    .dataframe tbody tr th:only-of-type {\n",
       "        vertical-align: middle;\n",
       "    }\n",
       "\n",
       "    .dataframe tbody tr th {\n",
       "        vertical-align: top;\n",
       "    }\n",
       "\n",
       "    .dataframe thead th {\n",
       "        text-align: right;\n",
       "    }\n",
       "</style>\n",
       "<table border=\"1\" class=\"dataframe\">\n",
       "  <thead>\n",
       "    <tr style=\"text-align: right;\">\n",
       "      <th></th>\n",
       "      <th>term</th>\n",
       "      <th>emp_length</th>\n",
       "      <th>mths_since_earliest_cr_line</th>\n",
       "      <th>mths_since_issue_d</th>\n",
       "      <th>mths_since_last_pymnt_d</th>\n",
       "      <th>mths_since_last_credit_pull_d</th>\n",
       "    </tr>\n",
       "  </thead>\n",
       "  <tbody>\n",
       "    <tr>\n",
       "      <th>40390</th>\n",
       "      <td>60</td>\n",
       "      <td>4</td>\n",
       "      <td>426.0</td>\n",
       "      <td>165</td>\n",
       "      <td>109.0</td>\n",
       "      <td>97.0</td>\n",
       "    </tr>\n",
       "    <tr>\n",
       "      <th>24349</th>\n",
       "      <td>36</td>\n",
       "      <td>10</td>\n",
       "      <td>406.0</td>\n",
       "      <td>161</td>\n",
       "      <td>123.0</td>\n",
       "      <td>123.0</td>\n",
       "    </tr>\n",
       "    <tr>\n",
       "      <th>420905</th>\n",
       "      <td>36</td>\n",
       "      <td>10</td>\n",
       "      <td>278.0</td>\n",
       "      <td>119</td>\n",
       "      <td>97.0</td>\n",
       "      <td>97.0</td>\n",
       "    </tr>\n",
       "    <tr>\n",
       "      <th>30522</th>\n",
       "      <td>36</td>\n",
       "      <td>3</td>\n",
       "      <td>309.0</td>\n",
       "      <td>166</td>\n",
       "      <td>129.0</td>\n",
       "      <td>129.0</td>\n",
       "    </tr>\n",
       "    <tr>\n",
       "      <th>285358</th>\n",
       "      <td>36</td>\n",
       "      <td>2</td>\n",
       "      <td>393.0</td>\n",
       "      <td>112</td>\n",
       "      <td>97.0</td>\n",
       "      <td>97.0</td>\n",
       "    </tr>\n",
       "    <tr>\n",
       "      <th>...</th>\n",
       "      <td>...</td>\n",
       "      <td>...</td>\n",
       "      <td>...</td>\n",
       "      <td>...</td>\n",
       "      <td>...</td>\n",
       "      <td>...</td>\n",
       "    </tr>\n",
       "    <tr>\n",
       "      <th>339806</th>\n",
       "      <td>60</td>\n",
       "      <td>0</td>\n",
       "      <td>230.0</td>\n",
       "      <td>115</td>\n",
       "      <td>98.0</td>\n",
       "      <td>97.0</td>\n",
       "    </tr>\n",
       "    <tr>\n",
       "      <th>234203</th>\n",
       "      <td>36</td>\n",
       "      <td>0</td>\n",
       "      <td>274.0</td>\n",
       "      <td>110</td>\n",
       "      <td>103.0</td>\n",
       "      <td>97.0</td>\n",
       "    </tr>\n",
       "    <tr>\n",
       "      <th>391290</th>\n",
       "      <td>36</td>\n",
       "      <td>4</td>\n",
       "      <td>323.0</td>\n",
       "      <td>117</td>\n",
       "      <td>98.0</td>\n",
       "      <td>97.0</td>\n",
       "    </tr>\n",
       "    <tr>\n",
       "      <th>282147</th>\n",
       "      <td>36</td>\n",
       "      <td>10</td>\n",
       "      <td>285.0</td>\n",
       "      <td>112</td>\n",
       "      <td>106.0</td>\n",
       "      <td>97.0</td>\n",
       "    </tr>\n",
       "    <tr>\n",
       "      <th>234394</th>\n",
       "      <td>36</td>\n",
       "      <td>10</td>\n",
       "      <td>262.0</td>\n",
       "      <td>110</td>\n",
       "      <td>98.0</td>\n",
       "      <td>97.0</td>\n",
       "    </tr>\n",
       "  </tbody>\n",
       "</table>\n",
       "<p>373028 rows × 6 columns</p>\n",
       "</div>"
      ],
      "text/plain": [
       "        term  emp_length  mths_since_earliest_cr_line  mths_since_issue_d  \\\n",
       "40390     60           4                        426.0                 165   \n",
       "24349     36          10                        406.0                 161   \n",
       "420905    36          10                        278.0                 119   \n",
       "30522     36           3                        309.0                 166   \n",
       "285358    36           2                        393.0                 112   \n",
       "...      ...         ...                          ...                 ...   \n",
       "339806    60           0                        230.0                 115   \n",
       "234203    36           0                        274.0                 110   \n",
       "391290    36           4                        323.0                 117   \n",
       "282147    36          10                        285.0                 112   \n",
       "234394    36          10                        262.0                 110   \n",
       "\n",
       "        mths_since_last_pymnt_d  mths_since_last_credit_pull_d  \n",
       "40390                     109.0                           97.0  \n",
       "24349                     123.0                          123.0  \n",
       "420905                     97.0                           97.0  \n",
       "30522                     129.0                          129.0  \n",
       "285358                     97.0                           97.0  \n",
       "...                         ...                            ...  \n",
       "339806                     98.0                           97.0  \n",
       "234203                    103.0                           97.0  \n",
       "391290                     98.0                           97.0  \n",
       "282147                    106.0                           97.0  \n",
       "234394                     98.0                           97.0  \n",
       "\n",
       "[373028 rows x 6 columns]"
      ]
     },
     "execution_count": 394,
     "metadata": {},
     "output_type": "execute_result"
    }
   ],
   "source": [
    "X_train"
   ]
  },
  {
   "cell_type": "code",
   "execution_count": 395,
   "metadata": {},
   "outputs": [
    {
     "data": {
      "text/html": [
       "<div>\n",
       "<style scoped>\n",
       "    .dataframe tbody tr th:only-of-type {\n",
       "        vertical-align: middle;\n",
       "    }\n",
       "\n",
       "    .dataframe tbody tr th {\n",
       "        vertical-align: top;\n",
       "    }\n",
       "\n",
       "    .dataframe thead th {\n",
       "        text-align: right;\n",
       "    }\n",
       "</style>\n",
       "<table border=\"1\" class=\"dataframe\">\n",
       "  <thead>\n",
       "    <tr style=\"text-align: right;\">\n",
       "      <th></th>\n",
       "      <th>term</th>\n",
       "      <th>emp_length</th>\n",
       "      <th>mths_since_earliest_cr_line</th>\n",
       "      <th>mths_since_issue_d</th>\n",
       "      <th>mths_since_last_pymnt_d</th>\n",
       "      <th>mths_since_last_credit_pull_d</th>\n",
       "    </tr>\n",
       "  </thead>\n",
       "  <tbody>\n",
       "    <tr>\n",
       "      <th>45967</th>\n",
       "      <td>60</td>\n",
       "      <td>9</td>\n",
       "      <td>295.0</td>\n",
       "      <td>122</td>\n",
       "      <td>97.0</td>\n",
       "      <td>97.0</td>\n",
       "    </tr>\n",
       "    <tr>\n",
       "      <th>85036</th>\n",
       "      <td>36</td>\n",
       "      <td>10</td>\n",
       "      <td>289.0</td>\n",
       "      <td>124</td>\n",
       "      <td>104.0</td>\n",
       "      <td>98.0</td>\n",
       "    </tr>\n",
       "    <tr>\n",
       "      <th>96879</th>\n",
       "      <td>36</td>\n",
       "      <td>9</td>\n",
       "      <td>261.0</td>\n",
       "      <td>125</td>\n",
       "      <td>97.0</td>\n",
       "      <td>97.0</td>\n",
       "    </tr>\n",
       "    <tr>\n",
       "      <th>297850</th>\n",
       "      <td>36</td>\n",
       "      <td>10</td>\n",
       "      <td>288.0</td>\n",
       "      <td>112</td>\n",
       "      <td>111.0</td>\n",
       "      <td>112.0</td>\n",
       "    </tr>\n",
       "    <tr>\n",
       "      <th>66790</th>\n",
       "      <td>36</td>\n",
       "      <td>8</td>\n",
       "      <td>328.0</td>\n",
       "      <td>123</td>\n",
       "      <td>97.0</td>\n",
       "      <td>97.0</td>\n",
       "    </tr>\n",
       "    <tr>\n",
       "      <th>...</th>\n",
       "      <td>...</td>\n",
       "      <td>...</td>\n",
       "      <td>...</td>\n",
       "      <td>...</td>\n",
       "      <td>...</td>\n",
       "      <td>...</td>\n",
       "    </tr>\n",
       "    <tr>\n",
       "      <th>1868</th>\n",
       "      <td>36</td>\n",
       "      <td>10</td>\n",
       "      <td>294.0</td>\n",
       "      <td>148</td>\n",
       "      <td>116.0</td>\n",
       "      <td>97.0</td>\n",
       "    </tr>\n",
       "    <tr>\n",
       "      <th>438110</th>\n",
       "      <td>36</td>\n",
       "      <td>3</td>\n",
       "      <td>253.0</td>\n",
       "      <td>120</td>\n",
       "      <td>98.0</td>\n",
       "      <td>97.0</td>\n",
       "    </tr>\n",
       "    <tr>\n",
       "      <th>66400</th>\n",
       "      <td>60</td>\n",
       "      <td>10</td>\n",
       "      <td>387.0</td>\n",
       "      <td>123</td>\n",
       "      <td>97.0</td>\n",
       "      <td>97.0</td>\n",
       "    </tr>\n",
       "    <tr>\n",
       "      <th>167062</th>\n",
       "      <td>36</td>\n",
       "      <td>8</td>\n",
       "      <td>471.0</td>\n",
       "      <td>132</td>\n",
       "      <td>108.0</td>\n",
       "      <td>97.0</td>\n",
       "    </tr>\n",
       "    <tr>\n",
       "      <th>445166</th>\n",
       "      <td>36</td>\n",
       "      <td>10</td>\n",
       "      <td>457.0</td>\n",
       "      <td>120</td>\n",
       "      <td>98.0</td>\n",
       "      <td>97.0</td>\n",
       "    </tr>\n",
       "  </tbody>\n",
       "</table>\n",
       "<p>93257 rows × 6 columns</p>\n",
       "</div>"
      ],
      "text/plain": [
       "        term  emp_length  mths_since_earliest_cr_line  mths_since_issue_d  \\\n",
       "45967     60           9                        295.0                 122   \n",
       "85036     36          10                        289.0                 124   \n",
       "96879     36           9                        261.0                 125   \n",
       "297850    36          10                        288.0                 112   \n",
       "66790     36           8                        328.0                 123   \n",
       "...      ...         ...                          ...                 ...   \n",
       "1868      36          10                        294.0                 148   \n",
       "438110    36           3                        253.0                 120   \n",
       "66400     60          10                        387.0                 123   \n",
       "167062    36           8                        471.0                 132   \n",
       "445166    36          10                        457.0                 120   \n",
       "\n",
       "        mths_since_last_pymnt_d  mths_since_last_credit_pull_d  \n",
       "45967                      97.0                           97.0  \n",
       "85036                     104.0                           98.0  \n",
       "96879                      97.0                           97.0  \n",
       "297850                    111.0                          112.0  \n",
       "66790                      97.0                           97.0  \n",
       "...                         ...                            ...  \n",
       "1868                      116.0                           97.0  \n",
       "438110                     98.0                           97.0  \n",
       "66400                      97.0                           97.0  \n",
       "167062                    108.0                           97.0  \n",
       "445166                     98.0                           97.0  \n",
       "\n",
       "[93257 rows x 6 columns]"
      ]
     },
     "execution_count": 395,
     "metadata": {},
     "output_type": "execute_result"
    }
   ],
   "source": [
    "X_test"
   ]
  },
  {
   "cell_type": "code",
   "execution_count": 396,
   "metadata": {},
   "outputs": [
    {
     "data": {
      "text/plain": [
       "term                              0\n",
       "emp_length                        0\n",
       "mths_since_earliest_cr_line       5\n",
       "mths_since_issue_d                0\n",
       "mths_since_last_pymnt_d          77\n",
       "mths_since_last_credit_pull_d    12\n",
       "dtype: int64"
      ]
     },
     "execution_count": 396,
     "metadata": {},
     "output_type": "execute_result"
    }
   ],
   "source": [
    "X_test.isnull().sum()"
   ]
  },
  {
   "cell_type": "code",
   "execution_count": 397,
   "metadata": {},
   "outputs": [
    {
     "data": {
      "text/plain": [
       "term                               0\n",
       "emp_length                         0\n",
       "mths_since_earliest_cr_line       24\n",
       "mths_since_issue_d                 0\n",
       "mths_since_last_pymnt_d          299\n",
       "mths_since_last_credit_pull_d     30\n",
       "dtype: int64"
      ]
     },
     "execution_count": 397,
     "metadata": {},
     "output_type": "execute_result"
    }
   ],
   "source": [
    "X_train.isnull().sum()"
   ]
  },
  {
   "cell_type": "code",
   "execution_count": 398,
   "metadata": {},
   "outputs": [],
   "source": [
    "#dilakukan pengisian pada nilai yang masih kosong dengan median\n",
    "\n",
    "for col in ['mths_since_issue_d', 'mths_since_last_pymnt_d', 'mths_since_last_credit_pull_d']:\n",
    "    X_train.fillna(X_train.median(), inplace=True)\n",
    "    X_test.fillna(X_test.median(), inplace=True)"
   ]
  },
  {
   "cell_type": "code",
   "execution_count": 400,
   "metadata": {},
   "outputs": [
    {
     "name": "stdout",
     "output_type": "stream",
     "text": [
      "term                             0\n",
      "emp_length                       0\n",
      "mths_since_earliest_cr_line      0\n",
      "mths_since_issue_d               0\n",
      "mths_since_last_pymnt_d          0\n",
      "mths_since_last_credit_pull_d    0\n",
      "dtype: int64\n"
     ]
    }
   ],
   "source": [
    "print(X_train.isnull().sum())\n"
   ]
  },
  {
   "cell_type": "code",
   "execution_count": 401,
   "metadata": {},
   "outputs": [
    {
     "data": {
      "text/plain": [
       "((373028, 6), (373028,), (93257, 6), (93257,))"
      ]
     },
     "execution_count": 401,
     "metadata": {},
     "output_type": "execute_result"
    }
   ],
   "source": [
    "X_train.shape, y_train.shape, X_test.shape, y_test.shape"
   ]
  },
  {
   "cell_type": "markdown",
   "metadata": {},
   "source": [
    "## 6. (a) Modelling logistic regression"
   ]
  },
  {
   "cell_type": "code",
   "execution_count": 402,
   "metadata": {},
   "outputs": [],
   "source": [
    "from sklearn.preprocessing import StandardScaler\n",
    "\n",
    "scaler = StandardScaler()\n",
    "X_train_scaled = scaler.fit_transform(X_train)\n",
    "X_test_scaled = scaler.transform(X_test)\n"
   ]
  },
  {
   "cell_type": "code",
   "execution_count": 403,
   "metadata": {},
   "outputs": [],
   "source": [
    "from sklearn.linear_model import LogisticRegression"
   ]
  },
  {
   "cell_type": "code",
   "execution_count": 404,
   "metadata": {},
   "outputs": [],
   "source": [
    "model = LogisticRegression()"
   ]
  },
  {
   "cell_type": "code",
   "execution_count": 405,
   "metadata": {},
   "outputs": [],
   "source": [
    "model.fit(X_train, y_train)\n",
    "y_pred = model.predict(X_test)"
   ]
  },
  {
   "cell_type": "code",
   "execution_count": 406,
   "metadata": {},
   "outputs": [
    {
     "data": {
      "text/html": [
       "<div>\n",
       "<style scoped>\n",
       "    .dataframe tbody tr th:only-of-type {\n",
       "        vertical-align: middle;\n",
       "    }\n",
       "\n",
       "    .dataframe tbody tr th {\n",
       "        vertical-align: top;\n",
       "    }\n",
       "\n",
       "    .dataframe thead th {\n",
       "        text-align: right;\n",
       "    }\n",
       "</style>\n",
       "<table border=\"1\" class=\"dataframe\">\n",
       "  <thead>\n",
       "    <tr style=\"text-align: right;\">\n",
       "      <th></th>\n",
       "      <th>y_pred</th>\n",
       "      <th>y_test</th>\n",
       "    </tr>\n",
       "  </thead>\n",
       "  <tbody>\n",
       "    <tr>\n",
       "      <th>0</th>\n",
       "      <td>0</td>\n",
       "      <td>0</td>\n",
       "    </tr>\n",
       "    <tr>\n",
       "      <th>1</th>\n",
       "      <td>0</td>\n",
       "      <td>1</td>\n",
       "    </tr>\n",
       "    <tr>\n",
       "      <th>2</th>\n",
       "      <td>0</td>\n",
       "      <td>0</td>\n",
       "    </tr>\n",
       "    <tr>\n",
       "      <th>3</th>\n",
       "      <td>0</td>\n",
       "      <td>0</td>\n",
       "    </tr>\n",
       "    <tr>\n",
       "      <th>4</th>\n",
       "      <td>0</td>\n",
       "      <td>0</td>\n",
       "    </tr>\n",
       "  </tbody>\n",
       "</table>\n",
       "</div>"
      ],
      "text/plain": [
       "   y_pred  y_test\n",
       "0       0       0\n",
       "1       0       1\n",
       "2       0       0\n",
       "3       0       0\n",
       "4       0       0"
      ]
     },
     "execution_count": 406,
     "metadata": {},
     "output_type": "execute_result"
    }
   ],
   "source": [
    "result = pd.DataFrame(list(zip(y_pred,y_test)), columns = ['y_pred', 'y_test'])\n",
    "result.head()"
   ]
  },
  {
   "cell_type": "code",
   "execution_count": 407,
   "metadata": {},
   "outputs": [
    {
     "data": {
      "text/plain": [
       "0.8795050237515682"
      ]
     },
     "execution_count": 407,
     "metadata": {},
     "output_type": "execute_result"
    }
   ],
   "source": [
    "from sklearn.metrics import accuracy_score\n",
    "accuracy_score(y_test, y_pred)"
   ]
  },
  {
   "cell_type": "code",
   "execution_count": 408,
   "metadata": {},
   "outputs": [],
   "source": [
    "from sklearn.metrics import confusion_matrix\n",
    "\n",
    "import matplotlib.pyplot as plt\n",
    "import seaborn as sns"
   ]
  },
  {
   "cell_type": "code",
   "execution_count": 409,
   "metadata": {},
   "outputs": [
    {
     "data": {
      "image/png": "[encoded data removed]",
      "text/plain": [
       "<Figure size 640x480 with 2 Axes>"
      ]
     },
     "metadata": {},
     "output_type": "display_data"
    }
   ],
   "source": [
    "cm = confusion_matrix(y_test, y_pred)\n",
    "\n",
    "\n",
    "sns.heatmap(cm, annot=True, fmt='.0f', cmap=plt.cm.Blues)\n",
    "plt.xlabel('y_pred')\n",
    "plt.ylabel('y_test')\n",
    "\n",
    "plt.show()"
   ]
  },
  {
   "cell_type": "code",
   "execution_count": 410,
   "metadata": {},
   "outputs": [
    {
     "name": "stdout",
     "output_type": "stream",
     "text": [
      "              precision    recall  f1-score   support\n",
      "\n",
      "           0       0.88      0.99      0.94     82191\n",
      "           1       0.41      0.03      0.06     11066\n",
      "\n",
      "    accuracy                           0.88     93257\n",
      "   macro avg       0.65      0.51      0.50     93257\n",
      "weighted avg       0.83      0.88      0.83     93257\n",
      "\n"
     ]
    }
   ],
   "source": [
    "from sklearn.metrics import classification_report\n",
    "\n",
    "# Evaluasi model pada data test\n",
    "y_pred = model.predict(X_test)\n",
    "print(classification_report(y_test, y_pred))\n"
   ]
  },
  {
   "cell_type": "markdown",
   "metadata": {},
   "source": [
    "Dikarenakan ini terlihat imbalance, maka akan dicoba model threshold"
   ]
  },
  {
   "cell_type": "code",
   "execution_count": 411,
   "metadata": {},
   "outputs": [
    {
     "data": {
      "text/plain": [
       "array([0, 0, 0, ..., 0, 0, 0])"
      ]
     },
     "execution_count": 411,
     "metadata": {},
     "output_type": "execute_result"
    }
   ],
   "source": [
    "model.predict(X_test)"
   ]
  },
  {
   "cell_type": "markdown",
   "metadata": {},
   "source": [
    "### kolom sebelah kiri untuk prediksi kelas 0 (berhasil bayar) kolom sebelah kanan untuk prediksi kelas 1 (gagal bayar)"
   ]
  },
  {
   "cell_type": "code",
   "execution_count": 412,
   "metadata": {},
   "outputs": [
    {
     "data": {
      "text/plain": [
       "array([[0.91066429, 0.08933571],\n",
       "       [0.91838223, 0.08161777],\n",
       "       [0.9546118 , 0.0453882 ],\n",
       "       ...,\n",
       "       [0.92256523, 0.07743477],\n",
       "       [0.93161729, 0.06838271],\n",
       "       [0.94904775, 0.05095225]])"
      ]
     },
     "execution_count": 412,
     "metadata": {},
     "output_type": "execute_result"
    }
   ],
   "source": [
    "model.predict_proba(X_test)"
   ]
  },
  {
   "cell_type": "code",
   "execution_count": 413,
   "metadata": {},
   "outputs": [],
   "source": [
    "# memprediksi probability dan mengambil probability kelas positive\n",
    "y_pred = model.predict_proba(X_test)[:, 1] "
   ]
  },
  {
   "cell_type": "code",
   "execution_count": 414,
   "metadata": {},
   "outputs": [
    {
     "data": {
      "text/plain": [
       "array([0.08933571, 0.08161777, 0.0453882 , ..., 0.07743477, 0.06838271,\n",
       "       0.05095225])"
      ]
     },
     "execution_count": 414,
     "metadata": {},
     "output_type": "execute_result"
    }
   ],
   "source": [
    "y_pred"
   ]
  },
  {
   "cell_type": "code",
   "execution_count": 415,
   "metadata": {},
   "outputs": [
    {
     "data": {
      "text/plain": [
       "array([0, 0, 0, ..., 0, 0, 0])"
      ]
     },
     "execution_count": 415,
     "metadata": {},
     "output_type": "execute_result"
    }
   ],
   "source": [
    "(y_pred > 0.5).astype(int)"
   ]
  },
  {
   "cell_type": "code",
   "execution_count": 416,
   "metadata": {},
   "outputs": [
    {
     "data": {
      "text/plain": [
       "(array([4.8183e+04, 3.0239e+04, 8.3940e+03, 3.5550e+03, 1.4720e+03,\n",
       "        7.1700e+02, 3.7100e+02, 2.1400e+02, 9.2000e+01, 2.0000e+01]),\n",
       " array([0.00117776, 0.09074303, 0.18030831, 0.26987358, 0.35943885,\n",
       "        0.44900412, 0.53856939, 0.62813466, 0.71769994, 0.80726521,\n",
       "        0.89683048]),\n",
       " <BarContainer object of 10 artists>)"
      ]
     },
     "execution_count": 416,
     "metadata": {},
     "output_type": "execute_result"
    },
    {
     "data": {
      "image/png": "[encoded data removed]",
      "text/plain": [
       "<Figure size 640x480 with 1 Axes>"
      ]
     },
     "metadata": {},
     "output_type": "display_data"
    }
   ],
   "source": [
    "plt.hist(y_pred)"
   ]
  },
  {
   "cell_type": "markdown",
   "metadata": {},
   "source": [
    "karena ini banyaknya di sekitaran 0.0 sampai 0.1 maka kita tidak bisa menetapkan thresholdnya 0.5, kita harus mencari terlebih dahulu best thresholdnya dengan true dan false positive rate"
   ]
  },
  {
   "cell_type": "code",
   "execution_count": 417,
   "metadata": {},
   "outputs": [],
   "source": [
    "from sklearn. metrics import roc_curve\n",
    "\n",
    "fpr, tpr, thresholds = roc_curve(y_test, y_pred)"
   ]
  },
  {
   "cell_type": "code",
   "execution_count": 418,
   "metadata": {},
   "outputs": [
    {
     "data": {
      "text/plain": [
       "0.09789690529662526"
      ]
     },
     "execution_count": 418,
     "metadata": {},
     "output_type": "execute_result"
    }
   ],
   "source": [
    "# youden j-statistic\n",
    "j = tpr - fpr\n",
    "\n",
    "ix = np.argmax(j)\n",
    "\n",
    "best_thresh = thresholds[ix]\n",
    "best_thresh"
   ]
  },
  {
   "cell_type": "markdown",
   "metadata": {},
   "source": [
    "## hipotesanya: jika hasil prediksi loan ada diatas 0.097 kemungkinan besar dia akan gagal bayar"
   ]
  },
  {
   "cell_type": "code",
   "execution_count": 419,
   "metadata": {},
   "outputs": [
    {
     "data": {
      "text/plain": [
       "array([0, 0, 0, ..., 0, 0, 0])"
      ]
     },
     "execution_count": 419,
     "metadata": {},
     "output_type": "execute_result"
    }
   ],
   "source": [
    "y_pred = model.predict_proba(X_test)[:, 1]\n",
    "(y_pred > 0.097).astype(int)"
   ]
  },
  {
   "cell_type": "code",
   "execution_count": 420,
   "metadata": {},
   "outputs": [],
   "source": [
    "best_thresh = 0.097\n",
    "y_pred_binary = (y_pred > best_thresh).astype(int)"
   ]
  },
  {
   "cell_type": "code",
   "execution_count": 421,
   "metadata": {},
   "outputs": [
    {
     "data": {
      "image/png": "[encoded data removed]",
      "text/plain": [
       "<Figure size 640x480 with 2 Axes>"
      ]
     },
     "metadata": {},
     "output_type": "display_data"
    }
   ],
   "source": [
    "# Hitung confusion matrix\n",
    "cm = confusion_matrix(y_test, y_pred_binary)\n",
    "\n",
    "# Gambar heatmap confusion matrix\n",
    "sns.heatmap(cm, annot=True, fmt='.0f', cmap=plt.cm.Blues)\n",
    "plt.xlabel('y_pred')\n",
    "plt.ylabel('y_test')\n",
    "plt.show()"
   ]
  },
  {
   "cell_type": "markdown",
   "metadata": {},
   "source": [
    "## 6. (b) Evaluasi"
   ]
  },
  {
   "cell_type": "code",
   "execution_count": 422,
   "metadata": {},
   "outputs": [
    {
     "name": "stdout",
     "output_type": "stream",
     "text": [
      "              precision    recall  f1-score   support\n",
      "\n",
      "           0       0.88      0.99      0.94     82191\n",
      "           1       0.41      0.03      0.06     11066\n",
      "\n",
      "    accuracy                           0.88     93257\n",
      "   macro avg       0.65      0.51      0.50     93257\n",
      "weighted avg       0.83      0.88      0.83     93257\n",
      "\n"
     ]
    }
   ],
   "source": [
    "from sklearn.metrics import classification_report\n",
    "\n",
    "# Evaluasi model pada data test\n",
    "y_pred = model.predict(X_test)\n",
    "print(classification_report(y_test, y_pred))"
   ]
  },
  {
   "cell_type": "code",
   "execution_count": 428,
   "metadata": {},
   "outputs": [
    {
     "data": {
      "text/plain": [
       "array([[ 0.02548758, -0.01094866, -0.00104008, -0.04931341,  0.08971926,\n",
       "        -0.01179156]])"
      ]
     },
     "execution_count": 428,
     "metadata": {},
     "output_type": "execute_result"
    }
   ],
   "source": [
    "coefficients = model.coef_\n",
    "model.coef_"
   ]
  },
  {
   "cell_type": "code",
   "execution_count": 425,
   "metadata": {},
   "outputs": [
    {
     "data": {
      "text/plain": [
       "array([-4.98841785])"
      ]
     },
     "execution_count": 425,
     "metadata": {},
     "output_type": "execute_result"
    }
   ],
   "source": [
    "model.intercept_"
   ]
  },
  {
   "cell_type": "code",
   "execution_count": 426,
   "metadata": {},
   "outputs": [
    {
     "data": {
      "text/html": [
       "<div>\n",
       "<style scoped>\n",
       "    .dataframe tbody tr th:only-of-type {\n",
       "        vertical-align: middle;\n",
       "    }\n",
       "\n",
       "    .dataframe tbody tr th {\n",
       "        vertical-align: top;\n",
       "    }\n",
       "\n",
       "    .dataframe thead th {\n",
       "        text-align: right;\n",
       "    }\n",
       "</style>\n",
       "<table border=\"1\" class=\"dataframe\">\n",
       "  <thead>\n",
       "    <tr style=\"text-align: right;\">\n",
       "      <th></th>\n",
       "      <th>term</th>\n",
       "      <th>emp_length</th>\n",
       "      <th>mths_since_earliest_cr_line</th>\n",
       "      <th>mths_since_issue_d</th>\n",
       "      <th>mths_since_last_pymnt_d</th>\n",
       "      <th>mths_since_last_credit_pull_d</th>\n",
       "    </tr>\n",
       "  </thead>\n",
       "  <tbody>\n",
       "    <tr>\n",
       "      <th>0</th>\n",
       "      <td>0.025488</td>\n",
       "      <td>-0.010949</td>\n",
       "      <td>-0.00104</td>\n",
       "      <td>-0.049313</td>\n",
       "      <td>0.089719</td>\n",
       "      <td>-0.011792</td>\n",
       "    </tr>\n",
       "  </tbody>\n",
       "</table>\n",
       "</div>"
      ],
      "text/plain": [
       "       term  emp_length  mths_since_earliest_cr_line  mths_since_issue_d  \\\n",
       "0  0.025488   -0.010949                     -0.00104           -0.049313   \n",
       "\n",
       "   mths_since_last_pymnt_d  mths_since_last_credit_pull_d  \n",
       "0                 0.089719                      -0.011792  "
      ]
     },
     "execution_count": 426,
     "metadata": {},
     "output_type": "execute_result"
    }
   ],
   "source": [
    "df_coeff = pd.DataFrame(model.coef_, columns=X_train.columns)\n",
    "df_coeff"
   ]
  },
  {
   "cell_type": "code",
   "execution_count": 427,
   "metadata": {},
   "outputs": [
    {
     "data": {
      "text/html": [
       "<div>\n",
       "<style scoped>\n",
       "    .dataframe tbody tr th:only-of-type {\n",
       "        vertical-align: middle;\n",
       "    }\n",
       "\n",
       "    .dataframe tbody tr th {\n",
       "        vertical-align: top;\n",
       "    }\n",
       "\n",
       "    .dataframe thead th {\n",
       "        text-align: right;\n",
       "    }\n",
       "</style>\n",
       "<table border=\"1\" class=\"dataframe\">\n",
       "  <thead>\n",
       "    <tr style=\"text-align: right;\">\n",
       "      <th></th>\n",
       "      <th>term</th>\n",
       "      <th>emp_length</th>\n",
       "      <th>mths_since_earliest_cr_line</th>\n",
       "      <th>mths_since_issue_d</th>\n",
       "      <th>mths_since_last_pymnt_d</th>\n",
       "      <th>mths_since_last_credit_pull_d</th>\n",
       "    </tr>\n",
       "  </thead>\n",
       "  <tbody>\n",
       "    <tr>\n",
       "      <th>40390</th>\n",
       "      <td>60</td>\n",
       "      <td>4</td>\n",
       "      <td>426.0</td>\n",
       "      <td>165</td>\n",
       "      <td>109.0</td>\n",
       "      <td>97.0</td>\n",
       "    </tr>\n",
       "    <tr>\n",
       "      <th>24349</th>\n",
       "      <td>36</td>\n",
       "      <td>10</td>\n",
       "      <td>406.0</td>\n",
       "      <td>161</td>\n",
       "      <td>123.0</td>\n",
       "      <td>123.0</td>\n",
       "    </tr>\n",
       "    <tr>\n",
       "      <th>420905</th>\n",
       "      <td>36</td>\n",
       "      <td>10</td>\n",
       "      <td>278.0</td>\n",
       "      <td>119</td>\n",
       "      <td>97.0</td>\n",
       "      <td>97.0</td>\n",
       "    </tr>\n",
       "    <tr>\n",
       "      <th>30522</th>\n",
       "      <td>36</td>\n",
       "      <td>3</td>\n",
       "      <td>309.0</td>\n",
       "      <td>166</td>\n",
       "      <td>129.0</td>\n",
       "      <td>129.0</td>\n",
       "    </tr>\n",
       "    <tr>\n",
       "      <th>285358</th>\n",
       "      <td>36</td>\n",
       "      <td>2</td>\n",
       "      <td>393.0</td>\n",
       "      <td>112</td>\n",
       "      <td>97.0</td>\n",
       "      <td>97.0</td>\n",
       "    </tr>\n",
       "  </tbody>\n",
       "</table>\n",
       "</div>"
      ],
      "text/plain": [
       "        term  emp_length  mths_since_earliest_cr_line  mths_since_issue_d  \\\n",
       "40390     60           4                        426.0                 165   \n",
       "24349     36          10                        406.0                 161   \n",
       "420905    36          10                        278.0                 119   \n",
       "30522     36           3                        309.0                 166   \n",
       "285358    36           2                        393.0                 112   \n",
       "\n",
       "        mths_since_last_pymnt_d  mths_since_last_credit_pull_d  \n",
       "40390                     109.0                           97.0  \n",
       "24349                     123.0                          123.0  \n",
       "420905                     97.0                           97.0  \n",
       "30522                     129.0                          129.0  \n",
       "285358                     97.0                           97.0  "
      ]
     },
     "execution_count": 427,
     "metadata": {},
     "output_type": "execute_result"
    }
   ],
   "source": [
    "X_train.head()"
   ]
  },
  {
   "cell_type": "code",
   "execution_count": null,
   "metadata": {},
   "outputs": [],
   "source": []
  }
 ],
 "metadata": {
  "kernelspec": {
   "display_name": "Python 3",
   "language": "python",
   "name": "python3"
  },
  "language_info": {
   "codemirror_mode": {
    "name": "ipython",
    "version": 3
   },
   "file_extension": ".py",
   "mimetype": "text/x-python",
   "name": "python",
   "nbconvert_exporter": "python",
   "pygments_lexer": "ipython3",
   "version": "3.12.1"
  }
 },
 "nbformat": 4,
 "nbformat_minor": 2
}
